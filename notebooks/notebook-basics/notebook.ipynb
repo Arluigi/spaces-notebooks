{
  "cells": [
    {
      "cell_type": "markdown",
      "id": "7e127046-57ff-4259-88eb-94596d9b4c6c",
      "metadata": {},
      "source": "<div style=\"background-color: #1B1A21; text-align: right; margin-bottom: -1px\">\n    <img src=\"https://raw.githubusercontent.com/singlestore-labs/spaces-notebooks/master/common/images/singlestore-banner.png\" style=\"padding: 0px; padding-right: 20px; margin: 0px; padding-top: 20px; height: 60px\"/>\n    <img src=\"https://raw.githubusercontent.com/singlestore-labs/spaces-notebooks/master/common/images/banner-colors.png\" style=\"width:100%; height: 50px; padding: 0px; margin: 0px; margin-bottom: -8px\"/>\n</div>"
    },
    {
      "cell_type": "markdown",
      "id": "680677eb-d3b7-460a-8ac2-94e9a68c8f43",
      "metadata": {},
      "source": "# Developing in a SingleStoreDB notebook\n\nPrototyping applications or analyzing datasets using notebooks in SingleStoreDB Cloud follows the same general principles as developing with a Jupyter Notebook. SingleStoreDB Cloud supports internal and external datasources. Internal datasources are databases that exist within your workspace. An external datasource could be an AWS S3 bucket for example. In this Notebook we cover:\n\n1. Connecting to a SingleStoreDB instance\n2. Connecting to an external datasource including firewall Settings\n3. Using SQL in a cell\n4. Using Python in a cell\n5. Using both SQL & Python\n6. Installing Libraries\n7. Using Magic Commands \n\n*To learn more about working with SingleStoreDB notebooks check out our [docs](https://docs.singlestore.com/managed-service/en/developer-resources/notebooks.html)!*"
    },
    {
      "cell_type": "markdown",
      "id": "cb310396-93ad-4c04-b64d-9601b8a202bc",
      "metadata": {},
      "source": "## 1. Connecting to SingleStoreDB\n\nOnce you select a workspace, you can access all of the databases attached to that workspace. You cannot connect to databases that are not attached to the workspace you are using."
    },
    {
      "cell_type": "markdown",
      "id": "8c502a67-9e8e-43b8-8bc6-41df4d5835da",
      "metadata": {},
      "source": "First select a workspace and the `information_schema` database from the drop-down menu at the top of this notebook.First select a workspace and the `information_schema` database from the drop-down menu at the top of this notebook.\n\n<img src=https://raw.githubusercontent.com/singlestore-labs/spaces-notebooks/master/notebooks/Notebook%20Basics/images/select-workspace-and-database.png style=\"width: 500px; border: 1px solid darkorchid\"/>"
    },
    {
      "cell_type": "markdown",
      "id": "886169b5-d60f-4669-9d34-20c14e9aba40",
      "metadata": {},
      "source": "With the database selected, the `connection_url` variable in the Python enviroment is now updated with that information\nand we can use the `%%sql` magic command to query the selected database."
    },
    {
      "cell_type": "code",
      "execution_count": 5,
      "id": "146c9641-23ec-4570-8466-14d2880c66f0",
      "metadata": {
        "execution": {
          "iopub.execute_input": "2023-06-22T22:48:48.969730Z",
          "iopub.status.busy": "2023-06-22T22:48:48.969376Z",
          "iopub.status.idle": "2023-06-22T22:48:49.062030Z",
          "shell.execute_reply": "2023-06-22T22:48:49.061556Z",
          "shell.execute_reply.started": "2023-06-22T22:48:48.969706Z"
        },
        "tags": [],
        "trusted": true
      },
      "outputs": [
        {
          "data": {
            "text/html": "<table>\n    <thead>\n        <tr>\n            <th>USER</th>\n            <th>HOST</th>\n            <th>TYPE</th>\n            <th>CONNECTIONS</th>\n            <th>IS_DELETED</th>\n            <th>LAST_UPDATED</th>\n            <th>DEFAULT_RESOURCE_POOL</th>\n            <th>IS_LOCAL</th>\n            <th>CREATED</th>\n            <th>PASSWORD_UPDATED</th>\n            <th>EFFECTIVE_FAILED_LOGIN_ATTEMPTS</th>\n            <th>EFFECTIVE_PASSWORD_LOCK_TIME</th>\n            <th>ACCOUNT_STATUS</th>\n            <th>PASSWORD_EXPIRATION</th>\n        </tr>\n    </thead>\n    <tbody>\n        <tr>\n            <td>acomet@singlestore.com</td>\n            <td>%</td>\n            <td>JWT</td>\n            <td>0</td>\n            <td>0</td>\n            <td>2023-06-21 16:25:32</td>\n            <td></td>\n            <td>0</td>\n            <td>2023-02-16 05:48:22</td>\n            <td>2023-02-16 05:48:22</td>\n            <td>0</td>\n            <td>0</td>\n            <td>n/a</td>\n            <td>None</td>\n        </tr>\n        <tr>\n            <td>d3505f24-d8d4-4258-bb60-fea6cc07931d</td>\n            <td>%</td>\n            <td>JWT</td>\n            <td>10</td>\n            <td>0</td>\n            <td>2023-06-21 16:25:32</td>\n            <td></td>\n            <td>0</td>\n            <td>2023-02-16 05:48:22</td>\n            <td>2023-02-16 05:48:22</td>\n            <td>0</td>\n            <td>0</td>\n            <td>n/a</td>\n            <td>None</td>\n        </tr>\n        <tr>\n            <td>admin</td>\n            <td>%</td>\n            <td>NATIVE</td>\n            <td>0</td>\n            <td>0</td>\n            <td>2023-06-22 22:44:56</td>\n            <td></td>\n            <td>0</td>\n            <td>2023-02-16 05:48:22</td>\n            <td>2023-05-12 15:38:57</td>\n            <td>0</td>\n            <td>0</td>\n            <td>n/a</td>\n            <td>None</td>\n        </tr>\n    </tbody>\n</table>",
            "text/plain": "+--------------------------------------+------+--------+-------------+------------+---------------------+-----------------------+----------+---------------------+---------------------+---------------------------------+------------------------------+----------------+---------------------+\n|                 USER                 | HOST |  TYPE  | CONNECTIONS | IS_DELETED |     LAST_UPDATED    | DEFAULT_RESOURCE_POOL | IS_LOCAL |       CREATED       |   PASSWORD_UPDATED  | EFFECTIVE_FAILED_LOGIN_ATTEMPTS | EFFECTIVE_PASSWORD_LOCK_TIME | ACCOUNT_STATUS | PASSWORD_EXPIRATION |\n+--------------------------------------+------+--------+-------------+------------+---------------------+-----------------------+----------+---------------------+---------------------+---------------------------------+------------------------------+----------------+---------------------+\n|        acomet@singlestore.com        |  %   |  JWT   |      0      |     0      | 2023-06-21 16:25:32 |                       |    0     | 2023-02-16 05:48:22 | 2023-02-16 05:48:22 |                0                |              0               |      n/a       |         None        |\n| d3505f24-d8d4-4258-bb60-fea6cc07931d |  %   |  JWT   |      10     |     0      | 2023-06-21 16:25:32 |                       |    0     | 2023-02-16 05:48:22 | 2023-02-16 05:48:22 |                0                |              0               |      n/a       |         None        |\n|                admin                 |  %   | NATIVE |      0      |     0      | 2023-06-22 22:44:56 |                       |    0     | 2023-02-16 05:48:22 | 2023-05-12 15:38:57 |                0                |              0               |      n/a       |         None        |\n+--------------------------------------+------+--------+-------------+------------+---------------------+-----------------------+----------+---------------------+---------------------+---------------------------------+------------------------------+----------------+---------------------+"
          },
          "execution_count": 5,
          "metadata": {},
          "output_type": "execute_result"
        }
      ],
      "source": "%%sql\nSELECT * FROM users\n    LIMIT 3;"
    },
    {
      "cell_type": "markdown",
      "id": "8cb9cb0f-c301-4cef-9f19-e86db0e52f73",
      "metadata": {},
      "source": "When running SQL commands against a different database explicitly, you can specify the database in your \nSQL code with the `USE` command:"
    },
    {
      "cell_type": "code",
      "execution_count": 6,
      "id": "22b88c07-c956-4a77-944d-4aac485c1514",
      "metadata": {
        "execution": {
          "iopub.execute_input": "2023-06-22T22:48:51.112636Z",
          "iopub.status.busy": "2023-06-22T22:48:51.112343Z",
          "iopub.status.idle": "2023-06-22T22:48:51.141215Z",
          "shell.execute_reply": "2023-06-22T22:48:51.140742Z",
          "shell.execute_reply.started": "2023-06-22T22:48:51.112617Z"
        },
        "tags": [],
        "trusted": true
      },
      "outputs": [
        {
          "data": {
            "text/html": "<table>\n    <thead>\n        <tr>\n            <th>USER</th>\n            <th>HOST</th>\n            <th>TYPE</th>\n            <th>CONNECTIONS</th>\n            <th>IS_DELETED</th>\n            <th>LAST_UPDATED</th>\n            <th>DEFAULT_RESOURCE_POOL</th>\n            <th>IS_LOCAL</th>\n            <th>CREATED</th>\n            <th>PASSWORD_UPDATED</th>\n            <th>EFFECTIVE_FAILED_LOGIN_ATTEMPTS</th>\n            <th>EFFECTIVE_PASSWORD_LOCK_TIME</th>\n            <th>ACCOUNT_STATUS</th>\n            <th>PASSWORD_EXPIRATION</th>\n        </tr>\n    </thead>\n    <tbody>\n        <tr>\n            <td>acomet@singlestore.com</td>\n            <td>%</td>\n            <td>JWT</td>\n            <td>0</td>\n            <td>0</td>\n            <td>2023-06-21 16:25:32</td>\n            <td></td>\n            <td>0</td>\n            <td>2023-02-16 05:48:22</td>\n            <td>2023-02-16 05:48:22</td>\n            <td>0</td>\n            <td>0</td>\n            <td>n/a</td>\n            <td>None</td>\n        </tr>\n        <tr>\n            <td>d3505f24-d8d4-4258-bb60-fea6cc07931d</td>\n            <td>%</td>\n            <td>JWT</td>\n            <td>10</td>\n            <td>0</td>\n            <td>2023-06-21 16:25:32</td>\n            <td></td>\n            <td>0</td>\n            <td>2023-02-16 05:48:22</td>\n            <td>2023-02-16 05:48:22</td>\n            <td>0</td>\n            <td>0</td>\n            <td>n/a</td>\n            <td>None</td>\n        </tr>\n        <tr>\n            <td>admin</td>\n            <td>%</td>\n            <td>NATIVE</td>\n            <td>0</td>\n            <td>0</td>\n            <td>2023-06-22 22:44:56</td>\n            <td></td>\n            <td>0</td>\n            <td>2023-02-16 05:48:22</td>\n            <td>2023-05-12 15:38:57</td>\n            <td>0</td>\n            <td>0</td>\n            <td>n/a</td>\n            <td>None</td>\n        </tr>\n    </tbody>\n</table>",
            "text/plain": "+--------------------------------------+------+--------+-------------+------------+---------------------+-----------------------+----------+---------------------+---------------------+---------------------------------+------------------------------+----------------+---------------------+\n|                 USER                 | HOST |  TYPE  | CONNECTIONS | IS_DELETED |     LAST_UPDATED    | DEFAULT_RESOURCE_POOL | IS_LOCAL |       CREATED       |   PASSWORD_UPDATED  | EFFECTIVE_FAILED_LOGIN_ATTEMPTS | EFFECTIVE_PASSWORD_LOCK_TIME | ACCOUNT_STATUS | PASSWORD_EXPIRATION |\n+--------------------------------------+------+--------+-------------+------------+---------------------+-----------------------+----------+---------------------+---------------------+---------------------------------+------------------------------+----------------+---------------------+\n|        acomet@singlestore.com        |  %   |  JWT   |      0      |     0      | 2023-06-21 16:25:32 |                       |    0     | 2023-02-16 05:48:22 | 2023-02-16 05:48:22 |                0                |              0               |      n/a       |         None        |\n| d3505f24-d8d4-4258-bb60-fea6cc07931d |  %   |  JWT   |      10     |     0      | 2023-06-21 16:25:32 |                       |    0     | 2023-02-16 05:48:22 | 2023-02-16 05:48:22 |                0                |              0               |      n/a       |         None        |\n|                admin                 |  %   | NATIVE |      0      |     0      | 2023-06-22 22:44:56 |                       |    0     | 2023-02-16 05:48:22 | 2023-05-12 15:38:57 |                0                |              0               |      n/a       |         None        |\n+--------------------------------------+------+--------+-------------+------------+---------------------+-----------------------+----------+---------------------+---------------------+---------------------------------+------------------------------+----------------+---------------------+"
          },
          "execution_count": 6,
          "metadata": {},
          "output_type": "execute_result"
        }
      ],
      "source": "%%sql\nUSE information_schema;\n\nSELECT * FROM users\n    LIMIT 3;"
    },
    {
      "cell_type": "markdown",
      "id": "e8b06918-25d2-40e6-9ad9-3e8c558e89e9",
      "metadata": {},
      "source": "Alternatively, you can specify the database prefix on the table in the query itself."
    },
    {
      "cell_type": "code",
      "execution_count": 8,
      "id": "8ab697a9-3b41-4f92-8b88-65717d7a4202",
      "metadata": {
        "execution": {
          "iopub.execute_input": "2023-06-22T22:48:53.567598Z",
          "iopub.status.busy": "2023-06-22T22:48:53.567298Z",
          "iopub.status.idle": "2023-06-22T22:48:53.635898Z",
          "shell.execute_reply": "2023-06-22T22:48:53.635405Z",
          "shell.execute_reply.started": "2023-06-22T22:48:53.567568Z"
        },
        "tags": [],
        "trusted": true
      },
      "outputs": [
        {
          "data": {
            "text/html": "<table>\n    <thead>\n        <tr>\n            <th>USER</th>\n            <th>HOST</th>\n            <th>TYPE</th>\n            <th>CONNECTIONS</th>\n            <th>IS_DELETED</th>\n            <th>LAST_UPDATED</th>\n            <th>DEFAULT_RESOURCE_POOL</th>\n            <th>IS_LOCAL</th>\n            <th>CREATED</th>\n            <th>PASSWORD_UPDATED</th>\n            <th>EFFECTIVE_FAILED_LOGIN_ATTEMPTS</th>\n            <th>EFFECTIVE_PASSWORD_LOCK_TIME</th>\n            <th>ACCOUNT_STATUS</th>\n            <th>PASSWORD_EXPIRATION</th>\n        </tr>\n    </thead>\n    <tbody>\n        <tr>\n            <td>acomet@singlestore.com</td>\n            <td>%</td>\n            <td>JWT</td>\n            <td>0</td>\n            <td>0</td>\n            <td>2023-06-21 16:25:32</td>\n            <td></td>\n            <td>0</td>\n            <td>2023-02-16 05:48:22</td>\n            <td>2023-02-16 05:48:22</td>\n            <td>0</td>\n            <td>0</td>\n            <td>n/a</td>\n            <td>None</td>\n        </tr>\n        <tr>\n            <td>d3505f24-d8d4-4258-bb60-fea6cc07931d</td>\n            <td>%</td>\n            <td>JWT</td>\n            <td>11</td>\n            <td>0</td>\n            <td>2023-06-21 16:25:32</td>\n            <td></td>\n            <td>0</td>\n            <td>2023-02-16 05:48:22</td>\n            <td>2023-02-16 05:48:22</td>\n            <td>0</td>\n            <td>0</td>\n            <td>n/a</td>\n            <td>None</td>\n        </tr>\n        <tr>\n            <td>admin</td>\n            <td>%</td>\n            <td>NATIVE</td>\n            <td>0</td>\n            <td>0</td>\n            <td>2023-06-22 22:44:56</td>\n            <td></td>\n            <td>0</td>\n            <td>2023-02-16 05:48:22</td>\n            <td>2023-05-12 15:38:57</td>\n            <td>0</td>\n            <td>0</td>\n            <td>n/a</td>\n            <td>None</td>\n        </tr>\n    </tbody>\n</table>",
            "text/plain": "+--------------------------------------+------+--------+-------------+------------+---------------------+-----------------------+----------+---------------------+---------------------+---------------------------------+------------------------------+----------------+---------------------+\n|                 USER                 | HOST |  TYPE  | CONNECTIONS | IS_DELETED |     LAST_UPDATED    | DEFAULT_RESOURCE_POOL | IS_LOCAL |       CREATED       |   PASSWORD_UPDATED  | EFFECTIVE_FAILED_LOGIN_ATTEMPTS | EFFECTIVE_PASSWORD_LOCK_TIME | ACCOUNT_STATUS | PASSWORD_EXPIRATION |\n+--------------------------------------+------+--------+-------------+------------+---------------------+-----------------------+----------+---------------------+---------------------+---------------------------------+------------------------------+----------------+---------------------+\n|        acomet@singlestore.com        |  %   |  JWT   |      0      |     0      | 2023-06-21 16:25:32 |                       |    0     | 2023-02-16 05:48:22 | 2023-02-16 05:48:22 |                0                |              0               |      n/a       |         None        |\n| d3505f24-d8d4-4258-bb60-fea6cc07931d |  %   |  JWT   |      11     |     0      | 2023-06-21 16:25:32 |                       |    0     | 2023-02-16 05:48:22 | 2023-02-16 05:48:22 |                0                |              0               |      n/a       |         None        |\n|                admin                 |  %   | NATIVE |      0      |     0      | 2023-06-22 22:44:56 |                       |    0     | 2023-02-16 05:48:22 | 2023-05-12 15:38:57 |                0                |              0               |      n/a       |         None        |\n+--------------------------------------+------+--------+-------------+------------+---------------------+-----------------------+----------+---------------------+---------------------+---------------------------------+------------------------------+----------------+---------------------+"
          },
          "execution_count": 8,
          "metadata": {},
          "output_type": "execute_result"
        }
      ],
      "source": "%%sql\nSELECT * FROM information_schema.users\n    LIMIT 3;"
    },
    {
      "cell_type": "markdown",
      "id": "3aff8361-669b-474d-a45a-6345de985757",
      "metadata": {},
      "source": "## Connecting with SQLAlchemy"
    },
    {
      "cell_type": "markdown",
      "id": "c21cdbb8-c77e-4e31-a584-ff922620fb58",
      "metadata": {},
      "source": "You can also connect to your SingleStoreDB datasource using Python and SQLAlchemy. As mentioned above, \nthe `connection_url` variable is automatically populated by the notebook environment when selecting a\ndatabase in the drop-down menu at the top of the notebook."
    },
    {
      "cell_type": "code",
      "execution_count": 16,
      "id": "3e2781f6-626d-4f0d-a5bb-828537c9e6e1",
      "metadata": {
        "execution": {
          "iopub.execute_input": "2023-06-22T22:51:23.337416Z",
          "iopub.status.busy": "2023-06-22T22:51:23.336902Z",
          "iopub.status.idle": "2023-06-22T22:51:23.372480Z",
          "shell.execute_reply": "2023-06-22T22:51:23.371960Z",
          "shell.execute_reply.started": "2023-06-22T22:51:23.337388Z"
        },
        "tags": [],
        "trusted": true
      },
      "outputs": [],
      "source": "import sqlalchemy as sa\n\ndb_connection = sa.create_engine(connection_url).connect()"
    },
    {
      "cell_type": "markdown",
      "id": "1cae1a31-08c6-44b4-99c8-0d0a1b8b5ff8",
      "metadata": {},
      "source": "You can also explicitly define a URL using the individual connection components."
    },
    {
      "cell_type": "code",
      "execution_count": 17,
      "id": "93f26bcd-d07d-48a9-9f7a-edc2f9431c09",
      "metadata": {
        "execution": {
          "iopub.execute_input": "2023-06-22T22:51:25.047939Z",
          "iopub.status.busy": "2023-06-22T22:51:25.047648Z",
          "iopub.status.idle": "2023-06-22T22:51:25.269335Z",
          "shell.execute_reply": "2023-06-22T22:51:25.268696Z",
          "shell.execute_reply.started": "2023-06-22T22:51:25.047918Z"
        },
        "tags": [],
        "trusted": true
      },
      "outputs": [],
      "source": "database_name = \"information_schema\"\n\nconnection_url2 = f\"singlestoredb://{connection_user}:{connection_password}@{connection_host}:{connection_port}/{database_name}\"\n\ndb_connection2 = sa.create_engine(connection_url2).connect()"
    },
    {
      "cell_type": "markdown",
      "id": "2dbc2854-2396-49e0-ae9f-5e68cc1e316c",
      "metadata": {},
      "source": "Using db_connection, we can run our queries much like the `%%sql` command."
    },
    {
      "cell_type": "code",
      "execution_count": 18,
      "id": "cb22f3b0-547a-471b-80d3-213b38f41121",
      "metadata": {
        "execution": {
          "iopub.execute_input": "2023-06-22T22:51:31.268847Z",
          "iopub.status.busy": "2023-06-22T22:51:31.268545Z",
          "iopub.status.idle": "2023-06-22T22:51:31.303976Z",
          "shell.execute_reply": "2023-06-22T22:51:31.303251Z",
          "shell.execute_reply.started": "2023-06-22T22:51:31.268827Z"
        },
        "tags": [],
        "trusted": true
      },
      "outputs": [
        {
          "name": "stdout",
          "output_type": "stream",
          "text": "('acomet@singlestore.com', '%', 'JWT', 0, 0, datetime.datetime(2023, 6, 21, 16, 25, 32), '', 0, datetime.datetime(2023, 2, 16, 5, 48, 22), datetime.datetime(2023, 2, 16, 5, 48, 22), 0, 0, 'n/a', None)\n('d3505f24-d8d4-4258-bb60-fea6cc07931d', '%', 'JWT', 8, 0, datetime.datetime(2023, 6, 21, 16, 25, 32), '', 0, datetime.datetime(2023, 2, 16, 5, 48, 22), datetime.datetime(2023, 2, 16, 5, 48, 22), 0, 0, 'n/a', None)\n('admin', '%', 'NATIVE', 0, 0, datetime.datetime(2023, 6, 22, 22, 50, 47), '', 0, datetime.datetime(2023, 2, 16, 5, 48, 22), datetime.datetime(2023, 5, 12, 15, 38, 57), 0, 0, 'n/a', None)\n"
        }
      ],
      "source": "query1 = 'SELECT * FROM users LIMIT 3;'\n\nfor row in db_connection2.execute(query1):\n    print(row)"
    },
    {
      "cell_type": "markdown",
      "id": "1a15dcbc-4a03-49c2-ae18-130d97fb03e9",
      "metadata": {},
      "source": "# 2. Connecting to an external datasource\n\nYou can securely connect to external endpoints from your SingleStoreDB notebooks. By default, connections are limited to SingleStoreDB databases; however, you can enable and disable connections to other external endpoints via the allowlist. To add or remove endpoints from the allowlist:\n\n1. In the left navigation, select Notebooks.\n2. Select the Firewall tab in the main window.\n3. Select Edit to add new endpoints:\n\n<img src=\"https://raw.githubusercontent.com/singlestore-labs/spaces-notebooks/master/notebooks/Notebook%20Basics/images/new-endpoints.png\">\n\n4. In the Edit Allowlist dialog, you can add a Fully Qualified Domain Name (FQDN) or select from a list of suggested FQDNs (for example `pypi.org` or `github.com`). You can provide wildcard access to an endpoint by using the `*` character. For example, to access an AWS S3 endpoints, you can use the following syntax:  `*.s3.*.amazonaws.com`\n5. Select Save.\n\n<img src=\"https://raw.githubusercontent.com/singlestore-labs/spaces-notebooks/master/notebooks/Notebook%20Basics/images/connect-to-an-external-datasource.png\" style=\"width: 500px\">"
    },
    {
      "cell_type": "markdown",
      "id": "3eed3310-621f-4c37-9db4-a992980a4f46",
      "metadata": {},
      "source": "# 3. Using SQL\nThe default language for SingleStoreDB Cloud notebooks is Python. However, the `%%sql` magic command can be used to\nsubmit SQL code for an entire cell."
    },
    {
      "cell_type": "code",
      "execution_count": 24,
      "id": "d82fc6bf-b786-4956-a056-851e746f97b8",
      "metadata": {
        "execution": {
          "iopub.execute_input": "2023-06-22T22:53:17.788846Z",
          "iopub.status.busy": "2023-06-22T22:53:17.788553Z",
          "iopub.status.idle": "2023-06-22T22:53:17.821585Z",
          "shell.execute_reply": "2023-06-22T22:53:17.820934Z",
          "shell.execute_reply.started": "2023-06-22T22:53:17.788826Z"
        },
        "tags": [],
        "trusted": true
      },
      "outputs": [
        {
          "data": {
            "text/html": "<table>\n    <thead>\n        <tr>\n            <th>USER</th>\n            <th>HOST</th>\n            <th>TYPE</th>\n            <th>CONNECTIONS</th>\n            <th>IS_DELETED</th>\n            <th>LAST_UPDATED</th>\n            <th>DEFAULT_RESOURCE_POOL</th>\n            <th>IS_LOCAL</th>\n            <th>CREATED</th>\n            <th>PASSWORD_UPDATED</th>\n            <th>EFFECTIVE_FAILED_LOGIN_ATTEMPTS</th>\n            <th>EFFECTIVE_PASSWORD_LOCK_TIME</th>\n            <th>ACCOUNT_STATUS</th>\n            <th>PASSWORD_EXPIRATION</th>\n        </tr>\n    </thead>\n    <tbody>\n        <tr>\n            <td>acomet@singlestore.com</td>\n            <td>%</td>\n            <td>JWT</td>\n            <td>0</td>\n            <td>0</td>\n            <td>2023-06-21 16:25:32</td>\n            <td></td>\n            <td>0</td>\n            <td>2023-02-16 05:48:22</td>\n            <td>2023-02-16 05:48:22</td>\n            <td>0</td>\n            <td>0</td>\n            <td>n/a</td>\n            <td>None</td>\n        </tr>\n        <tr>\n            <td>d3505f24-d8d4-4258-bb60-fea6cc07931d</td>\n            <td>%</td>\n            <td>JWT</td>\n            <td>12</td>\n            <td>0</td>\n            <td>2023-06-21 16:25:32</td>\n            <td></td>\n            <td>0</td>\n            <td>2023-02-16 05:48:22</td>\n            <td>2023-02-16 05:48:22</td>\n            <td>0</td>\n            <td>0</td>\n            <td>n/a</td>\n            <td>None</td>\n        </tr>\n        <tr>\n            <td>admin</td>\n            <td>%</td>\n            <td>NATIVE</td>\n            <td>0</td>\n            <td>0</td>\n            <td>2023-06-22 22:50:47</td>\n            <td></td>\n            <td>0</td>\n            <td>2023-02-16 05:48:22</td>\n            <td>2023-05-12 15:38:57</td>\n            <td>0</td>\n            <td>0</td>\n            <td>n/a</td>\n            <td>None</td>\n        </tr>\n    </tbody>\n</table>",
            "text/plain": "+--------------------------------------+------+--------+-------------+------------+---------------------+-----------------------+----------+---------------------+---------------------+---------------------------------+------------------------------+----------------+---------------------+\n|                 USER                 | HOST |  TYPE  | CONNECTIONS | IS_DELETED |     LAST_UPDATED    | DEFAULT_RESOURCE_POOL | IS_LOCAL |       CREATED       |   PASSWORD_UPDATED  | EFFECTIVE_FAILED_LOGIN_ATTEMPTS | EFFECTIVE_PASSWORD_LOCK_TIME | ACCOUNT_STATUS | PASSWORD_EXPIRATION |\n+--------------------------------------+------+--------+-------------+------------+---------------------+-----------------------+----------+---------------------+---------------------+---------------------------------+------------------------------+----------------+---------------------+\n|        acomet@singlestore.com        |  %   |  JWT   |      0      |     0      | 2023-06-21 16:25:32 |                       |    0     | 2023-02-16 05:48:22 | 2023-02-16 05:48:22 |                0                |              0               |      n/a       |         None        |\n| d3505f24-d8d4-4258-bb60-fea6cc07931d |  %   |  JWT   |      12     |     0      | 2023-06-21 16:25:32 |                       |    0     | 2023-02-16 05:48:22 | 2023-02-16 05:48:22 |                0                |              0               |      n/a       |         None        |\n|                admin                 |  %   | NATIVE |      0      |     0      | 2023-06-22 22:50:47 |                       |    0     | 2023-02-16 05:48:22 | 2023-05-12 15:38:57 |                0                |              0               |      n/a       |         None        |\n+--------------------------------------+------+--------+-------------+------------+---------------------+-----------------------+----------+---------------------+---------------------+---------------------------------+------------------------------+----------------+---------------------+"
          },
          "execution_count": 24,
          "metadata": {},
          "output_type": "execute_result"
        }
      ],
      "source": "%%sql\nSELECT * FROM users\n    LIMIT 3;"
    },
    {
      "cell_type": "markdown",
      "id": "eb91c21c-1ce6-4e31-95d1-a981dea630c7",
      "metadata": {},
      "source": "By default, the results are displayed as a table. We can also store the result in a variable for use later in the\nnotebook. The following code includes the `result1 <<` syntax which indicates that the output of the SQL code\nshould be stored in the `result` variable in the Python environment."
    },
    {
      "cell_type": "code",
      "execution_count": 25,
      "id": "0a6341cd-0328-4d8a-8158-72aff97b77de",
      "metadata": {
        "execution": {
          "iopub.execute_input": "2023-06-22T22:53:20.172881Z",
          "iopub.status.busy": "2023-06-22T22:53:20.172529Z",
          "iopub.status.idle": "2023-06-22T22:53:20.204694Z",
          "shell.execute_reply": "2023-06-22T22:53:20.204166Z",
          "shell.execute_reply.started": "2023-06-22T22:53:20.172859Z"
        },
        "tags": [],
        "trusted": true
      },
      "outputs": [],
      "source": "%%sql result1 <<\nSELECT * FROM users\n    LIMIT 3;"
    },
    {
      "cell_type": "markdown",
      "id": "91cf2054-d223-4013-8867-2f4a9494978a",
      "metadata": {},
      "source": "We now have access to the `result` variable and can convert it to a DataFrame!"
    },
    {
      "cell_type": "code",
      "execution_count": 26,
      "id": "5e436bc0-4843-4d0c-b64c-3470d963f29a",
      "metadata": {
        "execution": {
          "iopub.execute_input": "2023-06-22T22:53:21.858559Z",
          "iopub.status.busy": "2023-06-22T22:53:21.858130Z",
          "iopub.status.idle": "2023-06-22T22:53:21.873191Z",
          "shell.execute_reply": "2023-06-22T22:53:21.872586Z",
          "shell.execute_reply.started": "2023-06-22T22:53:21.858536Z"
        },
        "tags": [],
        "trusted": true
      },
      "outputs": [
        {
          "data": {
            "text/html": "<div>\n<style scoped>\n    .dataframe tbody tr th:only-of-type {\n        vertical-align: middle;\n    }\n\n    .dataframe tbody tr th {\n        vertical-align: top;\n    }\n\n    .dataframe thead th {\n        text-align: right;\n    }\n</style>\n<table border=\"1\" class=\"dataframe\">\n  <thead>\n    <tr style=\"text-align: right;\">\n      <th></th>\n      <th>USER</th>\n      <th>HOST</th>\n      <th>TYPE</th>\n      <th>CONNECTIONS</th>\n      <th>IS_DELETED</th>\n      <th>LAST_UPDATED</th>\n      <th>DEFAULT_RESOURCE_POOL</th>\n      <th>IS_LOCAL</th>\n      <th>CREATED</th>\n      <th>PASSWORD_UPDATED</th>\n      <th>EFFECTIVE_FAILED_LOGIN_ATTEMPTS</th>\n      <th>EFFECTIVE_PASSWORD_LOCK_TIME</th>\n      <th>ACCOUNT_STATUS</th>\n      <th>PASSWORD_EXPIRATION</th>\n    </tr>\n  </thead>\n  <tbody>\n    <tr>\n      <th>0</th>\n      <td>acomet@singlestore.com</td>\n      <td>%</td>\n      <td>JWT</td>\n      <td>0</td>\n      <td>0</td>\n      <td>2023-06-21 16:25:32</td>\n      <td></td>\n      <td>0</td>\n      <td>2023-02-16 05:48:22</td>\n      <td>2023-02-16 05:48:22</td>\n      <td>0</td>\n      <td>0</td>\n      <td>n/a</td>\n      <td>None</td>\n    </tr>\n    <tr>\n      <th>1</th>\n      <td>d3505f24-d8d4-4258-bb60-fea6cc07931d</td>\n      <td>%</td>\n      <td>JWT</td>\n      <td>12</td>\n      <td>0</td>\n      <td>2023-06-21 16:25:32</td>\n      <td></td>\n      <td>0</td>\n      <td>2023-02-16 05:48:22</td>\n      <td>2023-02-16 05:48:22</td>\n      <td>0</td>\n      <td>0</td>\n      <td>n/a</td>\n      <td>None</td>\n    </tr>\n    <tr>\n      <th>2</th>\n      <td>admin</td>\n      <td>%</td>\n      <td>NATIVE</td>\n      <td>0</td>\n      <td>0</td>\n      <td>2023-06-22 22:50:47</td>\n      <td></td>\n      <td>0</td>\n      <td>2023-02-16 05:48:22</td>\n      <td>2023-05-12 15:38:57</td>\n      <td>0</td>\n      <td>0</td>\n      <td>n/a</td>\n      <td>None</td>\n    </tr>\n  </tbody>\n</table>\n</div>",
            "text/plain": "                                   USER HOST    TYPE  CONNECTIONS  IS_DELETED  \\\n0                acomet@singlestore.com    %     JWT            0           0   \n1  d3505f24-d8d4-4258-bb60-fea6cc07931d    %     JWT           12           0   \n2                                 admin    %  NATIVE            0           0   \n\n         LAST_UPDATED DEFAULT_RESOURCE_POOL  IS_LOCAL             CREATED  \\\n0 2023-06-21 16:25:32                               0 2023-02-16 05:48:22   \n1 2023-06-21 16:25:32                               0 2023-02-16 05:48:22   \n2 2023-06-22 22:50:47                               0 2023-02-16 05:48:22   \n\n     PASSWORD_UPDATED  EFFECTIVE_FAILED_LOGIN_ATTEMPTS  \\\n0 2023-02-16 05:48:22                                0   \n1 2023-02-16 05:48:22                                0   \n2 2023-05-12 15:38:57                                0   \n\n   EFFECTIVE_PASSWORD_LOCK_TIME ACCOUNT_STATUS PASSWORD_EXPIRATION  \n0                             0            n/a                None  \n1                             0            n/a                None  \n2                             0            n/a                None  "
          },
          "execution_count": 26,
          "metadata": {},
          "output_type": "execute_result"
        }
      ],
      "source": "import pandas as pd\n\ndf = pd.DataFrame(result1)\ndf"
    },
    {
      "cell_type": "markdown",
      "id": "360b2dc0-038e-4311-a5c3-b497b8feaf57",
      "metadata": {},
      "source": "## 4. Using Python in a code cell\n\nBy default, Python is the language for code cells. In the cell below, we are using a SQLAlchemy connection to execute\nthe same query as the previous example. The result of this query can be converted into a DataFrame in the same manner\nas above"
    },
    {
      "cell_type": "code",
      "execution_count": 27,
      "id": "e0085cca-2278-4904-94aa-4e46da840b66",
      "metadata": {
        "execution": {
          "iopub.execute_input": "2023-06-22T22:53:25.555354Z",
          "iopub.status.busy": "2023-06-22T22:53:25.554926Z",
          "iopub.status.idle": "2023-06-22T22:53:25.623187Z",
          "shell.execute_reply": "2023-06-22T22:53:25.622683Z",
          "shell.execute_reply.started": "2023-06-22T22:53:25.555331Z"
        },
        "tags": [],
        "trusted": true
      },
      "outputs": [
        {
          "data": {
            "text/html": "<div>\n<style scoped>\n    .dataframe tbody tr th:only-of-type {\n        vertical-align: middle;\n    }\n\n    .dataframe tbody tr th {\n        vertical-align: top;\n    }\n\n    .dataframe thead th {\n        text-align: right;\n    }\n</style>\n<table border=\"1\" class=\"dataframe\">\n  <thead>\n    <tr style=\"text-align: right;\">\n      <th></th>\n      <th>USER</th>\n      <th>HOST</th>\n      <th>TYPE</th>\n      <th>CONNECTIONS</th>\n      <th>IS_DELETED</th>\n      <th>LAST_UPDATED</th>\n      <th>DEFAULT_RESOURCE_POOL</th>\n      <th>IS_LOCAL</th>\n      <th>CREATED</th>\n      <th>PASSWORD_UPDATED</th>\n      <th>EFFECTIVE_FAILED_LOGIN_ATTEMPTS</th>\n      <th>EFFECTIVE_PASSWORD_LOCK_TIME</th>\n      <th>ACCOUNT_STATUS</th>\n      <th>PASSWORD_EXPIRATION</th>\n    </tr>\n  </thead>\n  <tbody>\n    <tr>\n      <th>0</th>\n      <td>acomet@singlestore.com</td>\n      <td>%</td>\n      <td>JWT</td>\n      <td>0</td>\n      <td>0</td>\n      <td>2023-06-21 16:25:32</td>\n      <td></td>\n      <td>0</td>\n      <td>2023-02-16 05:48:22</td>\n      <td>2023-02-16 05:48:22</td>\n      <td>0</td>\n      <td>0</td>\n      <td>n/a</td>\n      <td>None</td>\n    </tr>\n    <tr>\n      <th>1</th>\n      <td>d3505f24-d8d4-4258-bb60-fea6cc07931d</td>\n      <td>%</td>\n      <td>JWT</td>\n      <td>8</td>\n      <td>0</td>\n      <td>2023-06-21 16:25:32</td>\n      <td></td>\n      <td>0</td>\n      <td>2023-02-16 05:48:22</td>\n      <td>2023-02-16 05:48:22</td>\n      <td>0</td>\n      <td>0</td>\n      <td>n/a</td>\n      <td>None</td>\n    </tr>\n    <tr>\n      <th>2</th>\n      <td>admin</td>\n      <td>%</td>\n      <td>NATIVE</td>\n      <td>0</td>\n      <td>0</td>\n      <td>2023-06-22 22:50:47</td>\n      <td></td>\n      <td>0</td>\n      <td>2023-02-16 05:48:22</td>\n      <td>2023-05-12 15:38:57</td>\n      <td>0</td>\n      <td>0</td>\n      <td>n/a</td>\n      <td>None</td>\n    </tr>\n  </tbody>\n</table>\n</div>",
            "text/plain": "                                   USER HOST    TYPE  CONNECTIONS  IS_DELETED  \\\n0                acomet@singlestore.com    %     JWT            0           0   \n1  d3505f24-d8d4-4258-bb60-fea6cc07931d    %     JWT            8           0   \n2                                 admin    %  NATIVE            0           0   \n\n         LAST_UPDATED DEFAULT_RESOURCE_POOL  IS_LOCAL             CREATED  \\\n0 2023-06-21 16:25:32                               0 2023-02-16 05:48:22   \n1 2023-06-21 16:25:32                               0 2023-02-16 05:48:22   \n2 2023-06-22 22:50:47                               0 2023-02-16 05:48:22   \n\n     PASSWORD_UPDATED  EFFECTIVE_FAILED_LOGIN_ATTEMPTS  \\\n0 2023-02-16 05:48:22                                0   \n1 2023-02-16 05:48:22                                0   \n2 2023-05-12 15:38:57                                0   \n\n   EFFECTIVE_PASSWORD_LOCK_TIME ACCOUNT_STATUS PASSWORD_EXPIRATION  \n0                             0            n/a                None  \n1                             0            n/a                None  \n2                             0            n/a                None  "
          },
          "execution_count": 27,
          "metadata": {},
          "output_type": "execute_result"
        }
      ],
      "source": "result = db_connection.execute('SELECT * FROM users LIMIT 3;')\n\ndf = pd.DataFrame(result)\ndf"
    },
    {
      "cell_type": "markdown",
      "id": "afb80434-583d-4171-a95b-694ed14bbd98",
      "metadata": {},
      "source": "## 5. Using both SQL & Python in a code cell\n\nWe can use a single line of SQL within a Python cell using a single `%sql` call. Below we combine SQL and \nPython in the same cell to capture the output in the `result` variable. We then convert it to a DataFrame \nas in previous examples."
    },
    {
      "cell_type": "code",
      "execution_count": 28,
      "id": "d79f9268-7c76-47cf-bee7-577ce07ae85d",
      "metadata": {
        "execution": {
          "iopub.execute_input": "2023-06-22T22:53:47.848613Z",
          "iopub.status.busy": "2023-06-22T22:53:47.848322Z",
          "iopub.status.idle": "2023-06-22T22:53:47.942527Z",
          "shell.execute_reply": "2023-06-22T22:53:47.941844Z",
          "shell.execute_reply.started": "2023-06-22T22:53:47.848593Z"
        },
        "tags": [],
        "trusted": true
      },
      "outputs": [
        {
          "data": {
            "text/html": "<div>\n<style scoped>\n    .dataframe tbody tr th:only-of-type {\n        vertical-align: middle;\n    }\n\n    .dataframe tbody tr th {\n        vertical-align: top;\n    }\n\n    .dataframe thead th {\n        text-align: right;\n    }\n</style>\n<table border=\"1\" class=\"dataframe\">\n  <thead>\n    <tr style=\"text-align: right;\">\n      <th></th>\n      <th>USER</th>\n      <th>HOST</th>\n      <th>TYPE</th>\n      <th>CONNECTIONS</th>\n      <th>IS_DELETED</th>\n      <th>LAST_UPDATED</th>\n      <th>DEFAULT_RESOURCE_POOL</th>\n      <th>IS_LOCAL</th>\n      <th>CREATED</th>\n      <th>PASSWORD_UPDATED</th>\n      <th>EFFECTIVE_FAILED_LOGIN_ATTEMPTS</th>\n      <th>EFFECTIVE_PASSWORD_LOCK_TIME</th>\n      <th>ACCOUNT_STATUS</th>\n      <th>PASSWORD_EXPIRATION</th>\n    </tr>\n  </thead>\n  <tbody>\n    <tr>\n      <th>0</th>\n      <td>acomet@singlestore.com</td>\n      <td>%</td>\n      <td>JWT</td>\n      <td>0</td>\n      <td>0</td>\n      <td>2023-06-21 16:25:32</td>\n      <td></td>\n      <td>0</td>\n      <td>2023-02-16 05:48:22</td>\n      <td>2023-02-16 05:48:22</td>\n      <td>0</td>\n      <td>0</td>\n      <td>n/a</td>\n      <td>None</td>\n    </tr>\n    <tr>\n      <th>1</th>\n      <td>d3505f24-d8d4-4258-bb60-fea6cc07931d</td>\n      <td>%</td>\n      <td>JWT</td>\n      <td>11</td>\n      <td>0</td>\n      <td>2023-06-21 16:25:32</td>\n      <td></td>\n      <td>0</td>\n      <td>2023-02-16 05:48:22</td>\n      <td>2023-02-16 05:48:22</td>\n      <td>0</td>\n      <td>0</td>\n      <td>n/a</td>\n      <td>None</td>\n    </tr>\n    <tr>\n      <th>2</th>\n      <td>admin</td>\n      <td>%</td>\n      <td>NATIVE</td>\n      <td>0</td>\n      <td>0</td>\n      <td>2023-06-22 22:50:47</td>\n      <td></td>\n      <td>0</td>\n      <td>2023-02-16 05:48:22</td>\n      <td>2023-05-12 15:38:57</td>\n      <td>0</td>\n      <td>0</td>\n      <td>n/a</td>\n      <td>None</td>\n    </tr>\n  </tbody>\n</table>\n</div>",
            "text/plain": "                                   USER HOST    TYPE  CONNECTIONS  IS_DELETED  \\\n0                acomet@singlestore.com    %     JWT            0           0   \n1  d3505f24-d8d4-4258-bb60-fea6cc07931d    %     JWT           11           0   \n2                                 admin    %  NATIVE            0           0   \n\n         LAST_UPDATED DEFAULT_RESOURCE_POOL  IS_LOCAL             CREATED  \\\n0 2023-06-21 16:25:32                               0 2023-02-16 05:48:22   \n1 2023-06-21 16:25:32                               0 2023-02-16 05:48:22   \n2 2023-06-22 22:50:47                               0 2023-02-16 05:48:22   \n\n     PASSWORD_UPDATED  EFFECTIVE_FAILED_LOGIN_ATTEMPTS  \\\n0 2023-02-16 05:48:22                                0   \n1 2023-02-16 05:48:22                                0   \n2 2023-05-12 15:38:57                                0   \n\n   EFFECTIVE_PASSWORD_LOCK_TIME ACCOUNT_STATUS PASSWORD_EXPIRATION  \n0                             0            n/a                None  \n1                             0            n/a                None  \n2                             0            n/a                None  "
          },
          "execution_count": 28,
          "metadata": {},
          "output_type": "execute_result"
        }
      ],
      "source": "result = %sql SELECT * FROM users LIMIT 3;\n\ndf = pd.DataFrame(result)\ndf"
    },
    {
      "cell_type": "markdown",
      "id": "2b9a3995-32df-4931-8aff-44bcd2db5908",
      "metadata": {},
      "source": "## 6. Preinstalled libraries\n\nBy default, a SingleStoreDB notebook has a large number of preinstalled libraries. Run the cell below to see what libraries are already installed!"
    },
    {
      "cell_type": "code",
      "execution_count": 29,
      "id": "abee048d-f18a-4a35-8eae-c8f92939230a",
      "metadata": {
        "execution": {
          "iopub.execute_input": "2023-06-22T22:53:57.562927Z",
          "iopub.status.busy": "2023-06-22T22:53:57.562576Z",
          "iopub.status.idle": "2023-06-22T22:53:58.146391Z",
          "shell.execute_reply": "2023-06-22T22:53:58.145776Z",
          "shell.execute_reply.started": "2023-06-22T22:53:57.562901Z"
        },
        "tags": [],
        "trusted": true
      },
      "outputs": [
        {
          "name": "stdout",
          "output_type": "stream",
          "text": "Package                       Version\n----------------------------- -----------\naiofiles                      22.1.0\naiosqlite                     0.18.0\nalembic                       1.10.2\nanyio                         3.6.2\nargon2-cffi                   21.3.0\nargon2-cffi-bindings          21.2.0\narrow                         1.2.3\nasttokens                     2.2.1\nasync-generator               1.10\nattrs                         22.2.0\nBabel                         2.12.1\nbackcall                      0.2.0\nbackoff                       2.2.1\nbackports.functools-lru-cache 1.6.4\nbeautifulsoup4                4.11.2\nbleach                        6.0.0\nblinker                       1.5\nbrotlipy                      0.7.0\nbuild                         0.10.0\ncertifi                       2022.12.7\ncertipy                       0.1.3\ncffi                          1.15.1\ncharset-normalizer            2.1.1\nclick                         8.1.3\ncolorama                      0.4.6\ncomm                          0.1.2\nconda                         23.1.0\nconda-package-handling        2.0.2\nconda_package_streaming       0.7.0\ncryptography                  39.0.2\ndebugpy                       1.6.6\ndecorator                     5.1.1\ndefusedxml                    0.7.1\ndeprecation                   2.1.0\ndnspython                     2.3.0\nentrypoints                   0.4\nexecuting                     1.2.0\nfastjsonschema                2.16.3\nflit_core                     3.8.0\nfqdn                          1.5.1\ngreenlet                      2.0.2\nidna                          3.4\nimportlib-metadata            6.1.0\nimportlib-resources           5.12.0\nipykernel                     6.21.3\nipython                       8.11.0\nipython-genutils              0.2.0\nipywidgets                    8.0.4\nisoduration                   20.11.0\njedi                          0.18.2\nJinja2                        3.1.2\njson5                         0.9.5\njsonpointer                   2.3\njsonschema                    4.17.3\njupysql                       0.7.8\njupyter_client                8.0.3\njupyter_core                  5.3.0\njupyter-events                0.6.3\njupyter_packaging             0.12.3\njupyter_server                2.5.0\njupyter_server_fileid         0.8.0\njupyter_server_terminals      0.4.4\njupyter_server_ydoc           0.6.1\njupyter-telemetry             0.1.0\njupyter-ydoc                  0.2.2\njupyterhub                    3.1.1\njupyterlab                    3.6.1\njupyterlab-execute-time       2.3.1\njupyterlab-pygments           0.2.2\njupyterlab_server             2.20.0\njupyterlab-skip-traceback     4.0.4\njupyterlab-widgets            3.0.7\nlibmambapy                    1.3.1\nMako                          1.2.4\nmamba                         1.3.1\nMarkupSafe                    2.1.2\nmatplotlib-inline             0.1.6\nmistune                       2.0.5\nmonotonic                     1.6\nnbclassic                     0.5.3\nnbclient                      0.7.2\nnbconvert                     7.2.9\nnbformat                      5.7.3\nnest-asyncio                  1.5.6\nnotebook                      6.5.3\nnotebook_shim                 0.2.2\nnumpy                         1.24.3\noauthlib                      3.2.2\npackaging                     23.0\npamela                        1.0.0\npandas                        1.5.3\npandocfilters                 1.5.0\nparso                         0.8.3\npexpect                       4.8.0\npickleshare                   0.7.5\npip                           23.0.1\npkgutil_resolve_name          1.3.10\nplatformdirs                  3.1.1\nploomber-core                 0.2.12\nplotly                        5.13.0\npluggy                        1.0.0\nposthog                       3.0.1\nprettytable                   3.7.0\nprometheus-client             0.16.0\nprompt-toolkit                3.0.38\npsutil                        5.9.4\nptyprocess                    0.7.0\npure-eval                     0.2.2\npycosat                       0.6.4\npycparser                     2.21\npycurl                        7.45.1\nPygments                      2.14.0\nPyJWT                         2.6.0\npymongo                       4.3.3\nPyMySQL                       1.0.2\npyOpenSSL                     23.0.0\npyproject_hooks               1.0.0\npyrsistent                    0.19.3\nPySocks                       1.7.1\npython-dateutil               2.8.2\npython-json-logger            2.0.7\npytz                          2022.7.1\nPyYAML                        6.0\npyzmq                         25.0.1\nrequests                      2.28.2\nrfc3339-validator             0.1.4\nrfc3986-validator             0.1.1\nruamel.yaml                   0.17.21\nruamel.yaml.clib              0.2.7\nSend2Trash                    1.8.0\nsetuptools                    67.6.0\nshapely                       2.0.1\nsinglestoredb                 0.7.1\nsix                           1.16.0\nsniffio                       1.3.0\nsoupsieve                     2.3.2.post1\nSQLAlchemy                    1.4.46\nsqlalchemy-singlestoredb      0.2.0\nsqlglot                       15.0.0\nsqlparams                     5.1.0\nsqlparse                      0.4.4\nstack-data                    0.6.2\ntenacity                      8.2.2\nterminado                     0.17.1\ntinycss2                      1.2.1\ntomli                         2.0.1\ntomlkit                       0.11.8\ntoolz                         0.12.0\ntornado                       6.2\ntqdm                          4.65.0\ntraitlets                     5.9.0\ntyping_extensions             4.5.0\nuri-template                  1.2.0\nurllib3                       1.26.15\nwcwidth                       0.2.6\nwebcolors                     1.13\nwebencodings                  0.5.1\nwebsocket-client              1.5.1\nwheel                         0.40.0\nwidgetsnbextension            4.0.7\ny-py                          0.5.9\nypy-websocket                 0.8.2\nzipp                          3.15.0\nzstandard                     0.19.0\n"
        }
      ],
      "source": "!pip list"
    },
    {
      "cell_type": "markdown",
      "id": "bbc061e3-acb3-40cc-be84-ada979aaa1a5",
      "metadata": {},
      "source": "Our notebooks support libraries available from https://pypi.org/. For example, run the cell below to install the [Kaggle open dataset library](https://pypi.org/project/opendatasets/) to install the `opendatasets` package."
    },
    {
      "cell_type": "code",
      "execution_count": 30,
      "id": "e17e1322-33df-4e2f-97fe-9815df235b40",
      "metadata": {
        "execution": {
          "iopub.execute_input": "2023-06-22T22:54:02.383930Z",
          "iopub.status.busy": "2023-06-22T22:54:02.383602Z",
          "iopub.status.idle": "2023-06-22T22:54:04.313885Z",
          "shell.execute_reply": "2023-06-22T22:54:04.313215Z",
          "shell.execute_reply.started": "2023-06-22T22:54:02.383909Z"
        },
        "tags": [],
        "trusted": true
      },
      "outputs": [
        {
          "name": "stdout",
          "output_type": "stream",
          "text": "Collecting opendatasets\n  Downloading opendatasets-0.1.22-py3-none-any.whl (15 kB)\nRequirement already satisfied: tqdm in /opt/conda/lib/python3.10/site-packages (from opendatasets) (4.65.0)\nCollecting kaggle\n  Downloading kaggle-1.5.13.tar.gz (63 kB)\n\u001b[2K     \u001b[90m━━━━━━━━━━━━━━━━━━━━━━━━━━━━━━━━━━━━━━━━\u001b[0m \u001b[32m63.3/63.3 kB\u001b[0m \u001b[31m16.4 MB/s\u001b[0m eta \u001b[36m0:00:00\u001b[0m\n\u001b[?25h  Preparing metadata (setup.py) ... \u001b[?25ldone\n\u001b[?25hRequirement already satisfied: click in /opt/conda/lib/python3.10/site-packages (from opendatasets) (8.1.3)\nRequirement already satisfied: six>=1.10 in /opt/conda/lib/python3.10/site-packages (from kaggle->opendatasets) (1.16.0)\nRequirement already satisfied: certifi in /opt/conda/lib/python3.10/site-packages (from kaggle->opendatasets) (2022.12.7)\nRequirement already satisfied: python-dateutil in /opt/conda/lib/python3.10/site-packages (from kaggle->opendatasets) (2.8.2)\nRequirement already satisfied: requests in /opt/conda/lib/python3.10/site-packages (from kaggle->opendatasets) (2.28.2)\nCollecting python-slugify\n  Downloading python_slugify-8.0.1-py2.py3-none-any.whl (9.7 kB)\nRequirement already satisfied: urllib3 in /opt/conda/lib/python3.10/site-packages (from kaggle->opendatasets) (1.26.15)\nCollecting text-unidecode>=1.3\n  Downloading text_unidecode-1.3-py2.py3-none-any.whl (78 kB)\n\u001b[2K     \u001b[90m━━━━━━━━━━━━━━━━━━━━━━━━━━━━━━━━━━━━━━━━\u001b[0m \u001b[32m78.2/78.2 kB\u001b[0m \u001b[31m28.0 MB/s\u001b[0m eta \u001b[36m0:00:00\u001b[0m\n\u001b[?25hRequirement already satisfied: charset-normalizer<4,>=2 in /opt/conda/lib/python3.10/site-packages (from requests->kaggle->opendatasets) (2.1.1)\nRequirement already satisfied: idna<4,>=2.5 in /opt/conda/lib/python3.10/site-packages (from requests->kaggle->opendatasets) (3.4)\nBuilding wheels for collected packages: kaggle\n  Building wheel for kaggle (setup.py) ... \u001b[?25ldone\n\u001b[?25h  Created wheel for kaggle: filename=kaggle-1.5.13-py3-none-any.whl size=77717 sha256=408b603709857a9b678b5adda6a96ffbbcb0ba5c4afb2a76cdd7aecd2e59f06c\n  Stored in directory: /home/jovyan/.cache/pip/wheels/f3/16/ff/34e7d368370d4fd68bb749a59f1d2639ed66f3c14358e340a1\nSuccessfully built kaggle\nInstalling collected packages: text-unidecode, python-slugify, kaggle, opendatasets\nSuccessfully installed kaggle-1.5.13 opendatasets-0.1.22 python-slugify-8.0.1 text-unidecode-1.3\n"
        }
      ],
      "source": "!pip3 install opendatasets"
    },
    {
      "cell_type": "markdown",
      "id": "9c6684da-af62-42bc-9481-b53c75f64b5e",
      "metadata": {},
      "source": "You can even upgrade versions of a preinstalled library. Run the cell below to get the new version of Plotly."
    },
    {
      "cell_type": "code",
      "execution_count": 31,
      "id": "5a989a0f-6334-42d9-a75e-a04d09bccbec",
      "metadata": {
        "execution": {
          "iopub.execute_input": "2023-06-22T22:54:06.521518Z",
          "iopub.status.busy": "2023-06-22T22:54:06.521211Z",
          "iopub.status.idle": "2023-06-22T22:54:18.888177Z",
          "shell.execute_reply": "2023-06-22T22:54:18.887518Z",
          "shell.execute_reply.started": "2023-06-22T22:54:06.521497Z"
        },
        "tags": [],
        "trusted": true
      },
      "outputs": [
        {
          "name": "stdout",
          "output_type": "stream",
          "text": "Requirement already satisfied: plotly in /opt/conda/lib/python3.10/site-packages (5.13.0)\nCollecting plotly\n  Downloading plotly-5.15.0-py2.py3-none-any.whl (15.5 MB)\n\u001b[2K     \u001b[90m━━━━━━━━━━━━━━━━━━━━━━━━━━━━━━━━━━━━━━━━\u001b[0m \u001b[32m15.5/15.5 MB\u001b[0m \u001b[31m97.7 MB/s\u001b[0m eta \u001b[36m0:00:00\u001b[0m00:01\u001b[0m00:01\u001b[0m\n\u001b[?25hRequirement already satisfied: tenacity>=6.2.0 in /opt/conda/lib/python3.10/site-packages (from plotly) (8.2.2)\nRequirement already satisfied: packaging in /opt/conda/lib/python3.10/site-packages (from plotly) (23.0)\nInstalling collected packages: plotly\n  Attempting uninstall: plotly\n    Found existing installation: plotly 5.13.0\n    Uninstalling plotly-5.13.0:\n      Successfully uninstalled plotly-5.13.0\nSuccessfully installed plotly-5.15.0\n"
        }
      ],
      "source": "!pip3 install plotly --upgrade"
    },
    {
      "cell_type": "markdown",
      "id": "8d69cb4d-58ea-40ae-83db-03ff489d8676",
      "metadata": {},
      "source": "## 7. Magic commands\n\nMagic commands in Jupyter Notebook are special commands that allow you to perform various tasks that are not part of the standard Python language. We have demonstrated two of the included magic commands already: `%%sql` for submitting entire cells of\nSQL code and `%sql` for submitting a single query in the context of a Python code cell.\n\nThere are many other magic commands as well for everything from file system access to debugging your Python code.\nFor information about teh full list of magic commands available, run the code cell below."
    },
    {
      "cell_type": "code",
      "execution_count": 70,
      "id": "b413bb30-0e9f-4484-8d3e-e7bc724a0c13",
      "metadata": {
        "execution": {
          "iopub.execute_input": "2023-06-22T16:46:54.727602Z",
          "iopub.status.busy": "2023-06-22T16:46:54.727364Z",
          "iopub.status.idle": "2023-06-22T16:46:54.731167Z",
          "shell.execute_reply": "2023-06-22T16:46:54.730714Z",
          "shell.execute_reply.started": "2023-06-22T16:46:54.727588Z"
        },
        "tags": [],
        "trusted": true
      },
      "outputs": [
        {
          "data": {
            "text/plain": "\nIPython -- An enhanced Interactive Python - Quick Reference Card\n================================================================\n\nobj?, obj??      : Get help, or more help for object (also works as\n                   ?obj, ??obj).\n?foo.*abc*       : List names in 'foo' containing 'abc' in them.\n%magic           : Information about IPython's 'magic' % functions.\n\nMagic functions are prefixed by % or %%, and typically take their arguments\nwithout parentheses, quotes or even commas for convenience.  Line magics take a\nsingle % and cell magics are prefixed with two %%.\n\nExample magic function calls:\n\n%alias d ls -F   : 'd' is now an alias for 'ls -F'\nalias d ls -F    : Works if 'alias' not a python name\nalist = %alias   : Get list of aliases to 'alist'\ncd /usr/share    : Obvious. cd -<tab> to choose from visited dirs.\n%cd??            : See help AND source for magic %cd\n%timeit x=10     : time the 'x=10' statement with high precision.\n%%timeit x=2**100\nx**100           : time 'x**100' with a setup of 'x=2**100'; setup code is not\n                   counted.  This is an example of a cell magic.\n\nSystem commands:\n\n!cp a.txt b/     : System command escape, calls os.system()\ncp a.txt b/      : after %rehashx, most system commands work without !\ncp ${f}.txt $bar : Variable expansion in magics and system commands\nfiles = !ls /usr : Capture system command output\nfiles.s, files.l, files.n: \"a b c\", ['a','b','c'], 'a\\nb\\nc'\n\nHistory:\n\n_i, _ii, _iii    : Previous, next previous, next next previous input\n_i4, _ih[2:5]    : Input history line 4, lines 2-4\nexec(_i81)       : Execute input history line #81 again\n%rep 81          : Edit input history line #81\n_, __, ___       : previous, next previous, next next previous output\n_dh              : Directory history\n_oh              : Output history\n%hist            : Command history of current session.\n%hist -g foo     : Search command history of (almost) all sessions for 'foo'.\n%hist -g         : Command history of (almost) all sessions.\n%hist 1/2-8      : Command history containing lines 2-8 of session 1.\n%hist 1/ ~2/     : Command history of session 1 and 2 sessions before current.\n%hist ~8/1-~6/5  : Command history from line 1 of 8 sessions ago to\n                   line 5 of 6 sessions ago.\n%edit 0/         : Open editor to execute code with history of current session.\n\nAutocall:\n\nf 1,2            : f(1,2)  # Off by default, enable with %autocall magic.\n/f 1,2           : f(1,2) (forced autoparen)\n,f 1 2           : f(\"1\",\"2\")\n;f 1 2           : f(\"1 2\")\n\nRemember: TAB completion works in many contexts, not just file names\nor python names.\n\nThe following magic functions are currently available:\n\n%alias:\n    Define an alias for a system command.\n%alias_magic:\n    ::\n%autoawait:\n    \n%autocall:\n    Make functions callable without having to type parentheses.\n%automagic:\n    Make magic functions callable without having to type the initial %.\n%autosave:\n    Set the autosave interval in the notebook (in seconds).\n%bookmark:\n    Manage IPython's bookmark system.\n%cat:\n    Alias for `!cat`\n%cd:\n    Change the current working directory.\n%clear:\n    Clear the terminal.\n%colors:\n    Switch color scheme for prompts, info system and exception handlers.\n%conda:\n    Run the conda package manager within the current kernel.\n%config:\n    configure IPython\n%connect_info:\n    Print information for connecting other clients to this kernel\n%cp:\n    Alias for `!cp`\n%debug:\n    ::\n%dhist:\n    Print your history of visited directories.\n%dirs:\n    Return the current directory stack.\n%doctest_mode:\n    Toggle doctest mode on and off.\n%ed:\n    Alias for `%edit`.\n%edit:\n    Bring up an editor and execute the resulting code.\n%env:\n    Get, set, or list environment variables.\n%gui:\n    Enable or disable IPython GUI event loop integration.\n%hist:\n    Alias for `%history`.\n%history:\n    ::\n%jupysql:\n    ::\n%killbgscripts:\n    Kill all BG processes started by %%script and its family.\n%ldir:\n    Alias for `!ls -F -o --color %l | grep /$`\n%less:\n    Show a file through the pager.\n%lf:\n    Alias for `!ls -F -o --color %l | grep ^-`\n%lk:\n    Alias for `!ls -F -o --color %l | grep ^l`\n%ll:\n    Alias for `!ls -F -o --color`\n%load:\n    Load code into the current frontend.\n%load_ext:\n    Load an IPython extension by its module name.\n%loadpy:\n    Alias of `%load`\n%logoff:\n    Temporarily stop logging.\n%logon:\n    Restart logging.\n%logstart:\n    Start logging anywhere in a session.\n%logstate:\n    Print the status of the logging system.\n%logstop:\n    Fully stop logging and close log file.\n%ls:\n    Alias for `!ls -F --color`\n%lsmagic:\n    List currently available magic functions.\n%lx:\n    Alias for `!ls -F -o --color %l | grep ^-..x`\n%macro:\n    Define a macro for future re-execution. It accepts ranges of history,\n%magic:\n    Print information about the magic function system.\n%man:\n    Find the man page for the given command and display in pager.\n%matplotlib:\n    ::\n%mkdir:\n    Alias for `!mkdir`\n%more:\n    Show a file through the pager.\n%mv:\n    Alias for `!mv`\n%notebook:\n    ::\n%page:\n    Pretty print the object and display it through a pager.\n%pastebin:\n    Upload code to dpaste.com, returning the URL.\n%pdb:\n    Control the automatic calling of the pdb interactive debugger.\n%pdef:\n    Print the call signature for any callable object.\n%pdoc:\n    Print the docstring for an object.\n%pfile:\n    Print (or run through pager) the file where an object is defined.\n%pinfo:\n    Provide detailed information about an object.\n%pinfo2:\n    Provide extra detailed information about an object.\n%pip:\n    Run the pip package manager within the current kernel.\n%popd:\n    Change to directory popped off the top of the stack.\n%pprint:\n    Toggle pretty printing on/off.\n%precision:\n    Set floating point precision for pretty printing.\n%prun:\n    Run a statement through the python code profiler.\n%psearch:\n    Search for object in namespaces by wildcard.\n%psource:\n    Print (or run through pager) the source code for an object.\n%pushd:\n    Place the current dir on stack and change directory.\n%pwd:\n    Return the current working directory path.\n%pycat:\n    Show a syntax-highlighted file through a pager.\n%pylab:\n    ::\n%qtconsole:\n    Open a qtconsole connected to this kernel.\n%quickref:\n    Show a quick reference sheet \n%recall:\n    Repeat a command, or get command to input line for editing.\n%rehashx:\n    Update the alias table with all executable files in $PATH.\n%reload_ext:\n    Reload an IPython extension by its module name.\n%rep:\n    Alias for `%recall`.\n%rerun:\n    Re-run previous input\n%reset:\n    Resets the namespace by removing all names defined by the user, if\n%reset_selective:\n    Resets the namespace by removing names defined by the user.\n%rm:\n    Alias for `!rm`\n%rmdir:\n    Alias for `!rmdir`\n%run:\n    Run the named file inside IPython as a program.\n%save:\n    Save a set of lines or a macro to a given filename.\n%sc:\n    Shell capture - run shell command and capture output (DEPRECATED use !).\n%set_env:\n    Set environment variables.  Assumptions are that either \"val\" is a\n%sql:\n    ::\n%sqlcmd:\n    ::\n%sqlplot:\n    ::\n%sqlrender:\n    ::\n%store:\n    Lightweight persistence for python variables.\n%sx:\n    Shell execute - run shell command and capture output (!! is short-hand).\n%system:\n    Shell execute - run shell command and capture output (!! is short-hand).\n%tb:\n    Print the last traceback.\n%time:\n    Time execution of a Python statement or expression.\n%timeit:\n    Time execution of a Python statement or expression\n%unalias:\n    Remove an alias\n%unload_ext:\n    Unload an IPython extension by its module name.\n%who:\n    Print all interactive variables, with some minimal formatting.\n%who_ls:\n    Return a sorted list of all interactive variables.\n%whos:\n    Like %who, but gives some extra information about each variable.\n%xdel:\n    Delete a variable, trying to clear it from anywhere that\n%xmode:\n    Switch modes for the exception handlers.\n%%!:\n    Shell execute - run shell command and capture output (!! is short-hand).\n%%HTML:\n    Alias for `%%html`.\n%%SVG:\n    Alias for `%%svg`.\n%%bash:\n    %%bash script magic\n%%capture:\n    ::\n%%debug:\n    ::\n%%file:\n    Alias for `%%writefile`.\n%%html:\n    ::\n%%javascript:\n    Run the cell block of Javascript code\n%%js:\n    Run the cell block of Javascript code\n%%jupysql:\n    ::\n%%latex:\n    Render the cell as a block of LaTeX\n%%markdown:\n    Render the cell as Markdown text block\n%%perl:\n    %%perl script magic\n%%prun:\n    Run a statement through the python code profiler.\n%%pypy:\n    %%pypy script magic\n%%python:\n    %%python script magic\n%%python2:\n    %%python2 script magic\n%%python3:\n    %%python3 script magic\n%%ruby:\n    %%ruby script magic\n%%script:\n    ::\n%%sh:\n    %%sh script magic\n%%sql:\n    ::\n%%svg:\n    Render the cell as an SVG literal\n%%sx:\n    Shell execute - run shell command and capture output (!! is short-hand).\n%%system:\n    Shell execute - run shell command and capture output (!! is short-hand).\n%%time:\n    Time execution of a Python statement or expression.\n%%timeit:\n    Time execution of a Python statement or expression\n%%writefile:\n    ::\n"
          },
          "metadata": {},
          "output_type": "display_data"
        }
      ],
      "source": "%quickref"
    },
    {
      "cell_type": "markdown",
      "id": "0ea02e78-b1e2-4cb4-a6d7-d813fdcb2759",
      "metadata": {},
      "source": "**Learn more about SingleStoreDB notebooks [here](https://docs.singlestore.com/managed-service/en/developer-resources/notebooks.html) and get started with your first notebook!**"
    },
    {
      "cell_type": "markdown",
      "id": "df3c9ee9-ac57-4e84-9201-df635ac7bd36",
      "metadata": {},
      "source": "<img src=\"https://raw.githubusercontent.com/singlestore-labs/spaces-notebooks/master/common/images/banner-colors-reverse.png\" style=\"width: 100%; margin: 0; padding: 0\"/>"
    },
    {
      "cell_type": "code",
      "execution_count": null,
      "id": "385bacd4-9d07-4a62-9726-8667cff8ddda",
      "metadata": {},
      "outputs": [],
      "source": ""
    }
  ],
  "metadata": {
    "kernelspec": {
      "display_name": "Python 3 (ipykernel)",
      "language": "python",
      "name": "python3"
    },
    "language_info": {
      "codemirror_mode": {
        "name": "ipython",
        "version": 3
      },
      "file_extension": ".py",
      "mimetype": "text/x-python",
      "name": "python",
      "nbconvert_exporter": "python",
      "pygments_lexer": "ipython3",
      "version": "3.10.9"
    },
    "singlestore_connection": {
      "connectionID": "34713c62-c91a-4c84-91b3-79dff7cd693a",
      "defaultDatabase": "information_schema"
    },
    "singlestore_row_limit": 300
  },
  "nbformat": 4,
  "nbformat_minor": 5
}
