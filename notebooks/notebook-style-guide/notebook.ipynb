{
 "cells": [
  {
   "cell_type": "markdown",
   "id": "71947763-ce7c-49d4-bb58-305e5b833cff",
   "metadata": {},
   "source": [
    "<div id=\"singlestore-header\" style=\"display: flex; background-color: rgba(124, 195, 235, 0.25); padding: 5px;\">\n",
    "    <div id=\"icon-image\" style=\"width: 90px; height: 90px;\">\n",
    "        <img width=\"100%\" height=\"100%\" src=\"https://raw.githubusercontent.com/singlestore-labs/spaces-notebooks/master/common/images/header-icons/link.png\" />\n",
    "    </div>\n",
    "    <div id=\"text\" style=\"padding: 5px; margin-left: 10px;\">\n",
    "        <div id=\"badge\" style=\"display: inline-block; background-color: rgba(0, 0, 0, 0.15); border-radius: 4px; padding: 4px 8px; align-items: center; margin-top: 6px; margin-bottom: -2px; font-size: 80%\">SingleStore Notebooks</div>\n",
    "        <h1 style=\"font-weight: 500; margin: 8px 0 0 4px;\">Notebook Style Guide</h1>\n",
    "    </div>\n",
    "</div>"
   ]
  },
  {
   "cell_type": "markdown",
   "id": "6e041476-ad7d-45e5-8215-a692b0849810",
   "metadata": {},
   "source": [
    "## Notebook header\n",
    "\n",
    "The first thing in a notebook should be a header which contains the title of the notebook. There are a number of\n",
    "icons that can be used in the header. They are available in the \n",
    "<a href=\"https://github.com/singlestore-labs/spaces-notebooks/tree/master/common/images/header-icons\">spaces-notebooks \n",
    "repository</a>. Each icon has a complimentary background color associated with it from the following list.\n",
    "\n",
    "Simply choose an icon and the corresponding color then insert them into the markup copied from the top cell of this notebook.\n",
    "\n",
    "<table>\n",
    "    <thead>\n",
    "        <tr><th>Name</th><th>CSS Color</th><th>Sample</th></tr>\n",
    "    </thead>\n",
    "    <tbody>\n",
    "        <tr><th>Purple</th><td>rgba(209, 153, 255, 0.25)</td><td style=\"width: 150px; background-color: rgba(209, 153, 255, 0.25)\"></td></tr>\n",
    "        <tr><th>Blue</th><td>rgba(124, 195, 235, 0.25)</td><td style=\"width: 150px; background-color: rgba(124, 195, 235, 0.25)\"></td></tr>\n",
    "        <tr><th>Green</th><td>rgba(210, 255, 153, 0.25)</td><td style=\"width: 150px; background-color: rgba(210, 255, 153, 0.25)\"></td></tr>\n",
    "        <tr><th>Yellow</th><td>rgba(255, 224, 129, 0.25)</td><td style=\"width: 150px; background-color: rgba(255, 224, 129, 0.25)\"></td></tr>\n",
    "        <tr><th>Orange</th><td>rgba(255, 167, 103, 0.25)</td><td style=\"width: 150px; background-color: rgba(255, 167, 103, 0.25)\"></td></tr>\n",
    "        <tr><th>Red</th><td>rgba(255, 182, 176, 0.25)</td><td style=\"width: 150px; background-color: rgba(255, 182, 176, 0.25)\"></td></tr>\n",
    "        <tr><th>Gray</th><td>rgba(235, 249, 245, 0.25)</td><td style=\"width: 150px; background-color: rgba(235, 249, 245, 0.25)\"></td></tr>\n",
    "    </tbody>\n",
    "</table>"
   ]
  },
  {
   "cell_type": "markdown",
   "id": "4baf7f00-c80a-4a7d-95fd-2f32f1bf30fa",
   "metadata": {},
   "source": [
    "### Header icons\n",
    "\n",
    "Run the code below to see a selection of the header icons."
   ]
  },
  {
   "cell_type": "code",
   "execution_count": 12,
   "id": "b9df3e59-dcd6-4afc-9311-23e64d7d8db0",
   "metadata": {
    "tags": []
   },
   "outputs": [
    {
     "name": "stdout",
     "output_type": "stream",
     "text": [
      "Requirement already satisfied: pillow in /home/ksmith/.pyenv/versions/3.11.3/lib/python3.11/site-packages (9.5.0)\n",
      "\n",
      "\u001b[1m[\u001b[0m\u001b[34;49mnotice\u001b[0m\u001b[1;39;49m]\u001b[0m\u001b[39;49m A new release of pip is available: \u001b[0m\u001b[31;49m23.1.2\u001b[0m\u001b[39;49m -> \u001b[0m\u001b[32;49m23.2\u001b[0m\n",
      "\u001b[1m[\u001b[0m\u001b[34;49mnotice\u001b[0m\u001b[1;39;49m]\u001b[0m\u001b[39;49m To update, run: \u001b[0m\u001b[32;49mpip install --upgrade pip\u001b[0m\n"
     ]
    }
   ],
   "source": [
    "!pip install pillow --quiet"
   ]
  },
  {
   "cell_type": "code",
   "execution_count": 49,
   "id": "f9223698-6dea-4c18-b5f8-9c838f40eaf9",
   "metadata": {
    "tags": []
   },
   "outputs": [
    {
     "data": {
      "text/html": [
       "<center><table><tr style=\"background-color: rgba(255, 167, 103, 0.25)\"><td style=\"width: 90px; background-color: transparent\"><a href=\"https://raw.githubusercontent.com/singlestore-labs/spaces-notebooks/master/common/images/header-icons/arrow-up-right-dots.png\"><img title=\"https://raw.githubusercontent.com/singlestore-labs/spaces-notebooks/master/common/images/header-icons/arrow-up-right-dots.png\" src=\"https://raw.githubusercontent.com/singlestore-labs/spaces-notebooks/master/common/images/header-icons/arrow-up-right-dots.png\"></a></td><td style=\"text-align: left; font-size: 120%\"><span>arrow-up-right-dots</span></td><td style=\"background-color: transparent; padding-left: 30px; padding-right: 30px; font-size: 120%; text-align: left; vertical-align: middle\"><span>rgba(255, 167, 103, 0.25)</span></td></tr><tr style=\"background-color: rgba(124, 195, 235, 0.25)\"><td style=\"width: 90px; background-color: transparent\"><a href=\"https://raw.githubusercontent.com/singlestore-labs/spaces-notebooks/master/common/images/header-icons/arrows-spin.png\"><img title=\"https://raw.githubusercontent.com/singlestore-labs/spaces-notebooks/master/common/images/header-icons/arrows-spin.png\" src=\"https://raw.githubusercontent.com/singlestore-labs/spaces-notebooks/master/common/images/header-icons/arrows-spin.png\"></a></td><td style=\"text-align: left; font-size: 120%\"><span>arrows-spin</span></td><td style=\"background-color: transparent; padding-left: 30px; padding-right: 30px; font-size: 120%; text-align: left; vertical-align: middle\"><span>rgba(124, 195, 235, 0.25)</span></td></tr><tr style=\"background-color: rgba(210, 255, 153, 0.25)\"><td style=\"width: 90px; background-color: transparent\"><a href=\"https://raw.githubusercontent.com/singlestore-labs/spaces-notebooks/master/common/images/header-icons/binary.png\"><img title=\"https://raw.githubusercontent.com/singlestore-labs/spaces-notebooks/master/common/images/header-icons/binary.png\" src=\"https://raw.githubusercontent.com/singlestore-labs/spaces-notebooks/master/common/images/header-icons/binary.png\"></a></td><td style=\"text-align: left; font-size: 120%\"><span>binary</span></td><td style=\"background-color: transparent; padding-left: 30px; padding-right: 30px; font-size: 120%; text-align: left; vertical-align: middle\"><span>rgba(210, 255, 153, 0.25)</span></td></tr><tr style=\"background-color: rgba(255, 224, 129, 0.25)\"><td style=\"width: 90px; background-color: transparent\"><a href=\"https://raw.githubusercontent.com/singlestore-labs/spaces-notebooks/master/common/images/header-icons/block-question.png\"><img title=\"https://raw.githubusercontent.com/singlestore-labs/spaces-notebooks/master/common/images/header-icons/block-question.png\" src=\"https://raw.githubusercontent.com/singlestore-labs/spaces-notebooks/master/common/images/header-icons/block-question.png\"></a></td><td style=\"text-align: left; font-size: 120%\"><span>block-question</span></td><td style=\"background-color: transparent; padding-left: 30px; padding-right: 30px; font-size: 120%; text-align: left; vertical-align: middle\"><span>rgba(255, 224, 129, 0.25)</span></td></tr><tr style=\"background-color: rgba(235, 249, 245, 0.25)\"><td style=\"width: 90px; background-color: transparent\"><a href=\"https://raw.githubusercontent.com/singlestore-labs/spaces-notebooks/master/common/images/header-icons/bolt.png\"><img title=\"https://raw.githubusercontent.com/singlestore-labs/spaces-notebooks/master/common/images/header-icons/bolt.png\" src=\"https://raw.githubusercontent.com/singlestore-labs/spaces-notebooks/master/common/images/header-icons/bolt.png\"></a></td><td style=\"text-align: left; font-size: 120%\"><span>bolt</span></td><td style=\"background-color: transparent; padding-left: 30px; padding-right: 30px; font-size: 120%; text-align: left; vertical-align: middle\"><span>rgba(235, 249, 245, 0.25)</span></td></tr><tr style=\"background-color: rgba(124, 195, 235, 0.25)\"><td style=\"width: 90px; background-color: transparent\"><a href=\"https://raw.githubusercontent.com/singlestore-labs/spaces-notebooks/master/common/images/header-icons/book-open-cover.png\"><img title=\"https://raw.githubusercontent.com/singlestore-labs/spaces-notebooks/master/common/images/header-icons/book-open-cover.png\" src=\"https://raw.githubusercontent.com/singlestore-labs/spaces-notebooks/master/common/images/header-icons/book-open-cover.png\"></a></td><td style=\"text-align: left; font-size: 120%\"><span>book-open-cover</span></td><td style=\"background-color: transparent; padding-left: 30px; padding-right: 30px; font-size: 120%; text-align: left; vertical-align: middle\"><span>rgba(124, 195, 235, 0.25)</span></td></tr><tr style=\"background-color: rgba(235, 249, 245, 0.25)\"><td style=\"width: 90px; background-color: transparent\"><a href=\"https://raw.githubusercontent.com/singlestore-labs/spaces-notebooks/master/common/images/header-icons/browser.png\"><img title=\"https://raw.githubusercontent.com/singlestore-labs/spaces-notebooks/master/common/images/header-icons/browser.png\" src=\"https://raw.githubusercontent.com/singlestore-labs/spaces-notebooks/master/common/images/header-icons/browser.png\"></a></td><td style=\"text-align: left; font-size: 120%\"><span>browser</span></td><td style=\"background-color: transparent; padding-left: 30px; padding-right: 30px; font-size: 120%; text-align: left; vertical-align: middle\"><span>rgba(235, 249, 245, 0.25)</span></td></tr><tr style=\"background-color: rgba(235, 249, 245, 0.25)\"><td style=\"width: 90px; background-color: transparent\"><a href=\"https://raw.githubusercontent.com/singlestore-labs/spaces-notebooks/master/common/images/header-icons/calendar-check.png\"><img title=\"https://raw.githubusercontent.com/singlestore-labs/spaces-notebooks/master/common/images/header-icons/calendar-check.png\" src=\"https://raw.githubusercontent.com/singlestore-labs/spaces-notebooks/master/common/images/header-icons/calendar-check.png\"></a></td><td style=\"text-align: left; font-size: 120%\"><span>calendar-check</span></td><td style=\"background-color: transparent; padding-left: 30px; padding-right: 30px; font-size: 120%; text-align: left; vertical-align: middle\"><span>rgba(235, 249, 245, 0.25)</span></td></tr><tr style=\"background-color: rgba(255, 182, 176, 0.25)\"><td style=\"width: 90px; background-color: transparent\"><a href=\"https://raw.githubusercontent.com/singlestore-labs/spaces-notebooks/master/common/images/header-icons/camera-movie.png\"><img title=\"https://raw.githubusercontent.com/singlestore-labs/spaces-notebooks/master/common/images/header-icons/camera-movie.png\" src=\"https://raw.githubusercontent.com/singlestore-labs/spaces-notebooks/master/common/images/header-icons/camera-movie.png\"></a></td><td style=\"text-align: left; font-size: 120%\"><span>camera-movie</span></td><td style=\"background-color: transparent; padding-left: 30px; padding-right: 30px; font-size: 120%; text-align: left; vertical-align: middle\"><span>rgba(255, 182, 176, 0.25)</span></td></tr><tr style=\"background-color: rgba(210, 255, 153, 0.25)\"><td style=\"width: 90px; background-color: transparent\"><a href=\"https://raw.githubusercontent.com/singlestore-labs/spaces-notebooks/master/common/images/header-icons/chart-network.png\"><img title=\"https://raw.githubusercontent.com/singlestore-labs/spaces-notebooks/master/common/images/header-icons/chart-network.png\" src=\"https://raw.githubusercontent.com/singlestore-labs/spaces-notebooks/master/common/images/header-icons/chart-network.png\"></a></td><td style=\"text-align: left; font-size: 120%\"><span>chart-network</span></td><td style=\"background-color: transparent; padding-left: 30px; padding-right: 30px; font-size: 120%; text-align: left; vertical-align: middle\"><span>rgba(210, 255, 153, 0.25)</span></td></tr><tr style=\"background-color: rgba(124, 195, 235, 0.25)\"><td style=\"width: 90px; background-color: transparent\"><a href=\"https://raw.githubusercontent.com/singlestore-labs/spaces-notebooks/master/common/images/header-icons/chart-scatter.png\"><img title=\"https://raw.githubusercontent.com/singlestore-labs/spaces-notebooks/master/common/images/header-icons/chart-scatter.png\" src=\"https://raw.githubusercontent.com/singlestore-labs/spaces-notebooks/master/common/images/header-icons/chart-scatter.png\"></a></td><td style=\"text-align: left; font-size: 120%\"><span>chart-scatter</span></td><td style=\"background-color: transparent; padding-left: 30px; padding-right: 30px; font-size: 120%; text-align: left; vertical-align: middle\"><span>rgba(124, 195, 235, 0.25)</span></td></tr><tr style=\"background-color: rgba(124, 195, 235, 0.25)\"><td style=\"width: 90px; background-color: transparent\"><a href=\"https://raw.githubusercontent.com/singlestore-labs/spaces-notebooks/master/common/images/header-icons/clouds.png\"><img title=\"https://raw.githubusercontent.com/singlestore-labs/spaces-notebooks/master/common/images/header-icons/clouds.png\" src=\"https://raw.githubusercontent.com/singlestore-labs/spaces-notebooks/master/common/images/header-icons/clouds.png\"></a></td><td style=\"text-align: left; font-size: 120%\"><span>clouds</span></td><td style=\"background-color: transparent; padding-left: 30px; padding-right: 30px; font-size: 120%; text-align: left; vertical-align: middle\"><span>rgba(124, 195, 235, 0.25)</span></td></tr><tr style=\"background-color: rgba(255, 167, 103, 0.25)\"><td style=\"width: 90px; background-color: transparent\"><a href=\"https://raw.githubusercontent.com/singlestore-labs/spaces-notebooks/master/common/images/header-icons/crystal-ball.png\"><img title=\"https://raw.githubusercontent.com/singlestore-labs/spaces-notebooks/master/common/images/header-icons/crystal-ball.png\" src=\"https://raw.githubusercontent.com/singlestore-labs/spaces-notebooks/master/common/images/header-icons/crystal-ball.png\"></a></td><td style=\"text-align: left; font-size: 120%\"><span>crystal-ball</span></td><td style=\"background-color: transparent; padding-left: 30px; padding-right: 30px; font-size: 120%; text-align: left; vertical-align: middle\"><span>rgba(255, 167, 103, 0.25)</span></td></tr><tr style=\"background-color: rgba(235, 249, 245, 0.25)\"><td style=\"width: 90px; background-color: transparent\"><a href=\"https://raw.githubusercontent.com/singlestore-labs/spaces-notebooks/master/common/images/header-icons/database.png\"><img title=\"https://raw.githubusercontent.com/singlestore-labs/spaces-notebooks/master/common/images/header-icons/database.png\" src=\"https://raw.githubusercontent.com/singlestore-labs/spaces-notebooks/master/common/images/header-icons/database.png\"></a></td><td style=\"text-align: left; font-size: 120%\"><span>database</span></td><td style=\"background-color: transparent; padding-left: 30px; padding-right: 30px; font-size: 120%; text-align: left; vertical-align: middle\"><span>rgba(235, 249, 245, 0.25)</span></td></tr><tr style=\"background-color: rgba(255, 167, 103, 0.25)\"><td style=\"width: 90px; background-color: transparent\"><a href=\"https://raw.githubusercontent.com/singlestore-labs/spaces-notebooks/master/common/images/header-icons/dollar-circle.png\"><img title=\"https://raw.githubusercontent.com/singlestore-labs/spaces-notebooks/master/common/images/header-icons/dollar-circle.png\" src=\"https://raw.githubusercontent.com/singlestore-labs/spaces-notebooks/master/common/images/header-icons/dollar-circle.png\"></a></td><td style=\"text-align: left; font-size: 120%\"><span>dollar-circle</span></td><td style=\"background-color: transparent; padding-left: 30px; padding-right: 30px; font-size: 120%; text-align: left; vertical-align: middle\"><span>rgba(255, 167, 103, 0.25)</span></td></tr><tr style=\"background-color: rgba(1, 1, 1, 0.25)\"><td style=\"width: 90px; background-color: transparent\"><a href=\"https://raw.githubusercontent.com/singlestore-labs/spaces-notebooks/master/common/images/header-icons/face-viewfinder.png\"><img title=\"https://raw.githubusercontent.com/singlestore-labs/spaces-notebooks/master/common/images/header-icons/face-viewfinder.png\" src=\"https://raw.githubusercontent.com/singlestore-labs/spaces-notebooks/master/common/images/header-icons/face-viewfinder.png\"></a></td><td style=\"text-align: left; font-size: 120%\"><span>face-viewfinder</span></td><td style=\"background-color: transparent; padding-left: 30px; padding-right: 30px; font-size: 120%; text-align: left; vertical-align: middle\"><span>rgba(1, 1, 1, 0.25)</span></td></tr><tr style=\"background-color: rgba(255, 182, 176, 0.25)\"><td style=\"width: 90px; background-color: transparent\"><a href=\"https://raw.githubusercontent.com/singlestore-labs/spaces-notebooks/master/common/images/header-icons/file-export.png\"><img title=\"https://raw.githubusercontent.com/singlestore-labs/spaces-notebooks/master/common/images/header-icons/file-export.png\" src=\"https://raw.githubusercontent.com/singlestore-labs/spaces-notebooks/master/common/images/header-icons/file-export.png\"></a></td><td style=\"text-align: left; font-size: 120%\"><span>file-export</span></td><td style=\"background-color: transparent; padding-left: 30px; padding-right: 30px; font-size: 120%; text-align: left; vertical-align: middle\"><span>rgba(255, 182, 176, 0.25)</span></td></tr><tr style=\"background-color: rgba(255, 224, 129, 0.25)\"><td style=\"width: 90px; background-color: transparent\"><a href=\"https://raw.githubusercontent.com/singlestore-labs/spaces-notebooks/master/common/images/header-icons/files.png\"><img title=\"https://raw.githubusercontent.com/singlestore-labs/spaces-notebooks/master/common/images/header-icons/files.png\" src=\"https://raw.githubusercontent.com/singlestore-labs/spaces-notebooks/master/common/images/header-icons/files.png\"></a></td><td style=\"text-align: left; font-size: 120%\"><span>files</span></td><td style=\"background-color: transparent; padding-left: 30px; padding-right: 30px; font-size: 120%; text-align: left; vertical-align: middle\"><span>rgba(255, 224, 129, 0.25)</span></td></tr><tr style=\"background-color: rgba(255, 167, 103, 0.25)\"><td style=\"width: 90px; background-color: transparent\"><a href=\"https://raw.githubusercontent.com/singlestore-labs/spaces-notebooks/master/common/images/header-icons/filter.png\"><img title=\"https://raw.githubusercontent.com/singlestore-labs/spaces-notebooks/master/common/images/header-icons/filter.png\" src=\"https://raw.githubusercontent.com/singlestore-labs/spaces-notebooks/master/common/images/header-icons/filter.png\"></a></td><td style=\"text-align: left; font-size: 120%\"><span>filter</span></td><td style=\"background-color: transparent; padding-left: 30px; padding-right: 30px; font-size: 120%; text-align: left; vertical-align: middle\"><span>rgba(255, 167, 103, 0.25)</span></td></tr><tr style=\"background-color: rgba(235, 249, 245, 0.25)\"><td style=\"width: 90px; background-color: transparent\"><a href=\"https://raw.githubusercontent.com/singlestore-labs/spaces-notebooks/master/common/images/header-icons/gears.png\"><img title=\"https://raw.githubusercontent.com/singlestore-labs/spaces-notebooks/master/common/images/header-icons/gears.png\" src=\"https://raw.githubusercontent.com/singlestore-labs/spaces-notebooks/master/common/images/header-icons/gears.png\"></a></td><td style=\"text-align: left; font-size: 120%\"><span>gears</span></td><td style=\"background-color: transparent; padding-left: 30px; padding-right: 30px; font-size: 120%; text-align: left; vertical-align: middle\"><span>rgba(235, 249, 245, 0.25)</span></td></tr><tr style=\"background-color: rgba(209, 153, 255, 0.25)\"><td style=\"width: 90px; background-color: transparent\"><a href=\"https://raw.githubusercontent.com/singlestore-labs/spaces-notebooks/master/common/images/header-icons/globe.png\"><img title=\"https://raw.githubusercontent.com/singlestore-labs/spaces-notebooks/master/common/images/header-icons/globe.png\" src=\"https://raw.githubusercontent.com/singlestore-labs/spaces-notebooks/master/common/images/header-icons/globe.png\"></a></td><td style=\"text-align: left; font-size: 120%\"><span>globe</span></td><td style=\"background-color: transparent; padding-left: 30px; padding-right: 30px; font-size: 120%; text-align: left; vertical-align: middle\"><span>rgba(209, 153, 255, 0.25)</span></td></tr><tr style=\"background-color: rgba(255, 224, 129, 0.25)\"><td style=\"width: 90px; background-color: transparent\"><a href=\"https://raw.githubusercontent.com/singlestore-labs/spaces-notebooks/master/common/images/header-icons/handshake.png\"><img title=\"https://raw.githubusercontent.com/singlestore-labs/spaces-notebooks/master/common/images/header-icons/handshake.png\" src=\"https://raw.githubusercontent.com/singlestore-labs/spaces-notebooks/master/common/images/header-icons/handshake.png\"></a></td><td style=\"text-align: left; font-size: 120%\"><span>handshake</span></td><td style=\"background-color: transparent; padding-left: 30px; padding-right: 30px; font-size: 120%; text-align: left; vertical-align: middle\"><span>rgba(255, 224, 129, 0.25)</span></td></tr><tr style=\"background-color: rgba(255, 182, 176, 0.25)\"><td style=\"width: 90px; background-color: transparent\"><a href=\"https://raw.githubusercontent.com/singlestore-labs/spaces-notebooks/master/common/images/header-icons/id-card.png\"><img title=\"https://raw.githubusercontent.com/singlestore-labs/spaces-notebooks/master/common/images/header-icons/id-card.png\" src=\"https://raw.githubusercontent.com/singlestore-labs/spaces-notebooks/master/common/images/header-icons/id-card.png\"></a></td><td style=\"text-align: left; font-size: 120%\"><span>id-card</span></td><td style=\"background-color: transparent; padding-left: 30px; padding-right: 30px; font-size: 120%; text-align: left; vertical-align: middle\"><span>rgba(255, 182, 176, 0.25)</span></td></tr><tr style=\"background-color: rgba(255, 224, 129, 0.25)\"><td style=\"width: 90px; background-color: transparent\"><a href=\"https://raw.githubusercontent.com/singlestore-labs/spaces-notebooks/master/common/images/header-icons/image.png\"><img title=\"https://raw.githubusercontent.com/singlestore-labs/spaces-notebooks/master/common/images/header-icons/image.png\" src=\"https://raw.githubusercontent.com/singlestore-labs/spaces-notebooks/master/common/images/header-icons/image.png\"></a></td><td style=\"text-align: left; font-size: 120%\"><span>image</span></td><td style=\"background-color: transparent; padding-left: 30px; padding-right: 30px; font-size: 120%; text-align: left; vertical-align: middle\"><span>rgba(255, 224, 129, 0.25)</span></td></tr><tr style=\"background-color: rgba(209, 153, 255, 0.25)\"><td style=\"width: 90px; background-color: transparent\"><a href=\"https://raw.githubusercontent.com/singlestore-labs/spaces-notebooks/master/common/images/header-icons/laptop.png\"><img title=\"https://raw.githubusercontent.com/singlestore-labs/spaces-notebooks/master/common/images/header-icons/laptop.png\" src=\"https://raw.githubusercontent.com/singlestore-labs/spaces-notebooks/master/common/images/header-icons/laptop.png\"></a></td><td style=\"text-align: left; font-size: 120%\"><span>laptop</span></td><td style=\"background-color: transparent; padding-left: 30px; padding-right: 30px; font-size: 120%; text-align: left; vertical-align: middle\"><span>rgba(209, 153, 255, 0.25)</span></td></tr><tr style=\"background-color: rgba(255, 167, 103, 0.25)\"><td style=\"width: 90px; background-color: transparent\"><a href=\"https://raw.githubusercontent.com/singlestore-labs/spaces-notebooks/master/common/images/header-icons/lightbulb-on.png\"><img title=\"https://raw.githubusercontent.com/singlestore-labs/spaces-notebooks/master/common/images/header-icons/lightbulb-on.png\" src=\"https://raw.githubusercontent.com/singlestore-labs/spaces-notebooks/master/common/images/header-icons/lightbulb-on.png\"></a></td><td style=\"text-align: left; font-size: 120%\"><span>lightbulb-on</span></td><td style=\"background-color: transparent; padding-left: 30px; padding-right: 30px; font-size: 120%; text-align: left; vertical-align: middle\"><span>rgba(255, 167, 103, 0.25)</span></td></tr><tr style=\"background-color: rgba(124, 195, 235, 0.25)\"><td style=\"width: 90px; background-color: transparent\"><a href=\"https://raw.githubusercontent.com/singlestore-labs/spaces-notebooks/master/common/images/header-icons/link.png\"><img title=\"https://raw.githubusercontent.com/singlestore-labs/spaces-notebooks/master/common/images/header-icons/link.png\" src=\"https://raw.githubusercontent.com/singlestore-labs/spaces-notebooks/master/common/images/header-icons/link.png\"></a></td><td style=\"text-align: left; font-size: 120%\"><span>link</span></td><td style=\"background-color: transparent; padding-left: 30px; padding-right: 30px; font-size: 120%; text-align: left; vertical-align: middle\"><span>rgba(124, 195, 235, 0.25)</span></td></tr><tr style=\"background-color: rgba(210, 255, 153, 0.25)\"><td style=\"width: 90px; background-color: transparent\"><a href=\"https://raw.githubusercontent.com/singlestore-labs/spaces-notebooks/master/common/images/header-icons/location-dots.png\"><img title=\"https://raw.githubusercontent.com/singlestore-labs/spaces-notebooks/master/common/images/header-icons/location-dots.png\" src=\"https://raw.githubusercontent.com/singlestore-labs/spaces-notebooks/master/common/images/header-icons/location-dots.png\"></a></td><td style=\"text-align: left; font-size: 120%\"><span>location-dots</span></td><td style=\"background-color: transparent; padding-left: 30px; padding-right: 30px; font-size: 120%; text-align: left; vertical-align: middle\"><span>rgba(210, 255, 153, 0.25)</span></td></tr><tr style=\"background-color: rgba(235, 249, 245, 0.25)\"><td style=\"width: 90px; background-color: transparent\"><a href=\"https://raw.githubusercontent.com/singlestore-labs/spaces-notebooks/master/common/images/header-icons/lock.png\"><img title=\"https://raw.githubusercontent.com/singlestore-labs/spaces-notebooks/master/common/images/header-icons/lock.png\" src=\"https://raw.githubusercontent.com/singlestore-labs/spaces-notebooks/master/common/images/header-icons/lock.png\"></a></td><td style=\"text-align: left; font-size: 120%\"><span>lock</span></td><td style=\"background-color: transparent; padding-left: 30px; padding-right: 30px; font-size: 120%; text-align: left; vertical-align: middle\"><span>rgba(235, 249, 245, 0.25)</span></td></tr><tr style=\"background-color: rgba(255, 224, 129, 0.25)\"><td style=\"width: 90px; background-color: transparent\"><a href=\"https://raw.githubusercontent.com/singlestore-labs/spaces-notebooks/master/common/images/header-icons/map.png\"><img title=\"https://raw.githubusercontent.com/singlestore-labs/spaces-notebooks/master/common/images/header-icons/map.png\" src=\"https://raw.githubusercontent.com/singlestore-labs/spaces-notebooks/master/common/images/header-icons/map.png\"></a></td><td style=\"text-align: left; font-size: 120%\"><span>map</span></td><td style=\"background-color: transparent; padding-left: 30px; padding-right: 30px; font-size: 120%; text-align: left; vertical-align: middle\"><span>rgba(255, 224, 129, 0.25)</span></td></tr><tr style=\"background-color: rgba(124, 195, 235, 0.25)\"><td style=\"width: 90px; background-color: transparent\"><a href=\"https://raw.githubusercontent.com/singlestore-labs/spaces-notebooks/master/common/images/header-icons/megaphone.png\"><img title=\"https://raw.githubusercontent.com/singlestore-labs/spaces-notebooks/master/common/images/header-icons/megaphone.png\" src=\"https://raw.githubusercontent.com/singlestore-labs/spaces-notebooks/master/common/images/header-icons/megaphone.png\"></a></td><td style=\"text-align: left; font-size: 120%\"><span>megaphone</span></td><td style=\"background-color: transparent; padding-left: 30px; padding-right: 30px; font-size: 120%; text-align: left; vertical-align: middle\"><span>rgba(124, 195, 235, 0.25)</span></td></tr><tr style=\"background-color: rgba(210, 255, 153, 0.25)\"><td style=\"width: 90px; background-color: transparent\"><a href=\"https://raw.githubusercontent.com/singlestore-labs/spaces-notebooks/master/common/images/header-icons/memo-circle-check.png\"><img title=\"https://raw.githubusercontent.com/singlestore-labs/spaces-notebooks/master/common/images/header-icons/memo-circle-check.png\" src=\"https://raw.githubusercontent.com/singlestore-labs/spaces-notebooks/master/common/images/header-icons/memo-circle-check.png\"></a></td><td style=\"text-align: left; font-size: 120%\"><span>memo-circle-check</span></td><td style=\"background-color: transparent; padding-left: 30px; padding-right: 30px; font-size: 120%; text-align: left; vertical-align: middle\"><span>rgba(210, 255, 153, 0.25)</span></td></tr><tr style=\"background-color: rgba(210, 255, 153, 0.25)\"><td style=\"width: 90px; background-color: transparent\"><a href=\"https://raw.githubusercontent.com/singlestore-labs/spaces-notebooks/master/common/images/header-icons/message-dots.png\"><img title=\"https://raw.githubusercontent.com/singlestore-labs/spaces-notebooks/master/common/images/header-icons/message-dots.png\" src=\"https://raw.githubusercontent.com/singlestore-labs/spaces-notebooks/master/common/images/header-icons/message-dots.png\"></a></td><td style=\"text-align: left; font-size: 120%\"><span>message-dots</span></td><td style=\"background-color: transparent; padding-left: 30px; padding-right: 30px; font-size: 120%; text-align: left; vertical-align: middle\"><span>rgba(210, 255, 153, 0.25)</span></td></tr><tr style=\"background-color: rgba(255, 224, 129, 0.25)\"><td style=\"width: 90px; background-color: transparent\"><a href=\"https://raw.githubusercontent.com/singlestore-labs/spaces-notebooks/master/common/images/header-icons/nodes-circle.png\"><img title=\"https://raw.githubusercontent.com/singlestore-labs/spaces-notebooks/master/common/images/header-icons/nodes-circle.png\" src=\"https://raw.githubusercontent.com/singlestore-labs/spaces-notebooks/master/common/images/header-icons/nodes-circle.png\"></a></td><td style=\"text-align: left; font-size: 120%\"><span>nodes-circle</span></td><td style=\"background-color: transparent; padding-left: 30px; padding-right: 30px; font-size: 120%; text-align: left; vertical-align: middle\"><span>rgba(255, 224, 129, 0.25)</span></td></tr><tr style=\"background-color: rgba(209, 153, 255, 0.25)\"><td style=\"width: 90px; background-color: transparent\"><a href=\"https://raw.githubusercontent.com/singlestore-labs/spaces-notebooks/master/common/images/header-icons/notes.png\"><img title=\"https://raw.githubusercontent.com/singlestore-labs/spaces-notebooks/master/common/images/header-icons/notes.png\" src=\"https://raw.githubusercontent.com/singlestore-labs/spaces-notebooks/master/common/images/header-icons/notes.png\"></a></td><td style=\"text-align: left; font-size: 120%\"><span>notes</span></td><td style=\"background-color: transparent; padding-left: 30px; padding-right: 30px; font-size: 120%; text-align: left; vertical-align: middle\"><span>rgba(209, 153, 255, 0.25)</span></td></tr><tr style=\"background-color: rgba(255, 167, 103, 0.25)\"><td style=\"width: 90px; background-color: transparent\"><a href=\"https://raw.githubusercontent.com/singlestore-labs/spaces-notebooks/master/common/images/header-icons/pipeline_.png\"><img title=\"https://raw.githubusercontent.com/singlestore-labs/spaces-notebooks/master/common/images/header-icons/pipeline_.png\" src=\"https://raw.githubusercontent.com/singlestore-labs/spaces-notebooks/master/common/images/header-icons/pipeline_.png\"></a></td><td style=\"text-align: left; font-size: 120%\"><span>pipeline_</span></td><td style=\"background-color: transparent; padding-left: 30px; padding-right: 30px; font-size: 120%; text-align: left; vertical-align: middle\"><span>rgba(255, 167, 103, 0.25)</span></td></tr><tr style=\"background-color: rgba(255, 182, 176, 0.25)\"><td style=\"width: 90px; background-color: transparent\"><a href=\"https://raw.githubusercontent.com/singlestore-labs/spaces-notebooks/master/common/images/header-icons/radar.png\"><img title=\"https://raw.githubusercontent.com/singlestore-labs/spaces-notebooks/master/common/images/header-icons/radar.png\" src=\"https://raw.githubusercontent.com/singlestore-labs/spaces-notebooks/master/common/images/header-icons/radar.png\"></a></td><td style=\"text-align: left; font-size: 120%\"><span>radar</span></td><td style=\"background-color: transparent; padding-left: 30px; padding-right: 30px; font-size: 120%; text-align: left; vertical-align: middle\"><span>rgba(255, 182, 176, 0.25)</span></td></tr><tr style=\"background-color: rgba(210, 255, 153, 0.25)\"><td style=\"width: 90px; background-color: transparent\"><a href=\"https://raw.githubusercontent.com/singlestore-labs/spaces-notebooks/master/common/images/header-icons/rocket.png\"><img title=\"https://raw.githubusercontent.com/singlestore-labs/spaces-notebooks/master/common/images/header-icons/rocket.png\" src=\"https://raw.githubusercontent.com/singlestore-labs/spaces-notebooks/master/common/images/header-icons/rocket.png\"></a></td><td style=\"text-align: left; font-size: 120%\"><span>rocket</span></td><td style=\"background-color: transparent; padding-left: 30px; padding-right: 30px; font-size: 120%; text-align: left; vertical-align: middle\"><span>rgba(210, 255, 153, 0.25)</span></td></tr><tr style=\"background-color: rgba(255, 182, 176, 0.25)\"><td style=\"width: 90px; background-color: transparent\"><a href=\"https://raw.githubusercontent.com/singlestore-labs/spaces-notebooks/master/common/images/header-icons/screwdriver-wrench.png\"><img title=\"https://raw.githubusercontent.com/singlestore-labs/spaces-notebooks/master/common/images/header-icons/screwdriver-wrench.png\" src=\"https://raw.githubusercontent.com/singlestore-labs/spaces-notebooks/master/common/images/header-icons/screwdriver-wrench.png\"></a></td><td style=\"text-align: left; font-size: 120%\"><span>screwdriver-wrench</span></td><td style=\"background-color: transparent; padding-left: 30px; padding-right: 30px; font-size: 120%; text-align: left; vertical-align: middle\"><span>rgba(255, 182, 176, 0.25)</span></td></tr><tr style=\"background-color: rgba(255, 182, 176, 0.25)\"><td style=\"width: 90px; background-color: transparent\"><a href=\"https://raw.githubusercontent.com/singlestore-labs/spaces-notebooks/master/common/images/header-icons/server.png\"><img title=\"https://raw.githubusercontent.com/singlestore-labs/spaces-notebooks/master/common/images/header-icons/server.png\" src=\"https://raw.githubusercontent.com/singlestore-labs/spaces-notebooks/master/common/images/header-icons/server.png\"></a></td><td style=\"text-align: left; font-size: 120%\"><span>server</span></td><td style=\"background-color: transparent; padding-left: 30px; padding-right: 30px; font-size: 120%; text-align: left; vertical-align: middle\"><span>rgba(255, 182, 176, 0.25)</span></td></tr><tr style=\"background-color: rgba(124, 195, 235, 0.25)\"><td style=\"width: 90px; background-color: transparent\"><a href=\"https://raw.githubusercontent.com/singlestore-labs/spaces-notebooks/master/common/images/header-icons/shield.png\"><img title=\"https://raw.githubusercontent.com/singlestore-labs/spaces-notebooks/master/common/images/header-icons/shield.png\" src=\"https://raw.githubusercontent.com/singlestore-labs/spaces-notebooks/master/common/images/header-icons/shield.png\"></a></td><td style=\"text-align: left; font-size: 120%\"><span>shield</span></td><td style=\"background-color: transparent; padding-left: 30px; padding-right: 30px; font-size: 120%; text-align: left; vertical-align: middle\"><span>rgba(124, 195, 235, 0.25)</span></td></tr><tr style=\"background-color: rgba(235, 249, 245, 0.25)\"><td style=\"width: 90px; background-color: transparent\"><a href=\"https://raw.githubusercontent.com/singlestore-labs/spaces-notebooks/master/common/images/header-icons/shop.png\"><img title=\"https://raw.githubusercontent.com/singlestore-labs/spaces-notebooks/master/common/images/header-icons/shop.png\" src=\"https://raw.githubusercontent.com/singlestore-labs/spaces-notebooks/master/common/images/header-icons/shop.png\"></a></td><td style=\"text-align: left; font-size: 120%\"><span>shop</span></td><td style=\"background-color: transparent; padding-left: 30px; padding-right: 30px; font-size: 120%; text-align: left; vertical-align: middle\"><span>rgba(235, 249, 245, 0.25)</span></td></tr><tr style=\"background-color: rgba(255, 224, 129, 0.25)\"><td style=\"width: 90px; background-color: transparent\"><a href=\"https://raw.githubusercontent.com/singlestore-labs/spaces-notebooks/master/common/images/header-icons/shopping-bag.png\"><img title=\"https://raw.githubusercontent.com/singlestore-labs/spaces-notebooks/master/common/images/header-icons/shopping-bag.png\" src=\"https://raw.githubusercontent.com/singlestore-labs/spaces-notebooks/master/common/images/header-icons/shopping-bag.png\"></a></td><td style=\"text-align: left; font-size: 120%\"><span>shopping-bag</span></td><td style=\"background-color: transparent; padding-left: 30px; padding-right: 30px; font-size: 120%; text-align: left; vertical-align: middle\"><span>rgba(255, 224, 129, 0.25)</span></td></tr><tr style=\"background-color: rgba(255, 167, 103, 0.25)\"><td style=\"width: 90px; background-color: transparent\"><a href=\"https://raw.githubusercontent.com/singlestore-labs/spaces-notebooks/master/common/images/header-icons/shopping-cart.png\"><img title=\"https://raw.githubusercontent.com/singlestore-labs/spaces-notebooks/master/common/images/header-icons/shopping-cart.png\" src=\"https://raw.githubusercontent.com/singlestore-labs/spaces-notebooks/master/common/images/header-icons/shopping-cart.png\"></a></td><td style=\"text-align: left; font-size: 120%\"><span>shopping-cart</span></td><td style=\"background-color: transparent; padding-left: 30px; padding-right: 30px; font-size: 120%; text-align: left; vertical-align: middle\"><span>rgba(255, 167, 103, 0.25)</span></td></tr><tr style=\"background-color: rgba(255, 182, 176, 0.25)\"><td style=\"width: 90px; background-color: transparent\"><a href=\"https://raw.githubusercontent.com/singlestore-labs/spaces-notebooks/master/common/images/header-icons/star.png\"><img title=\"https://raw.githubusercontent.com/singlestore-labs/spaces-notebooks/master/common/images/header-icons/star.png\" src=\"https://raw.githubusercontent.com/singlestore-labs/spaces-notebooks/master/common/images/header-icons/star.png\"></a></td><td style=\"text-align: left; font-size: 120%\"><span>star</span></td><td style=\"background-color: transparent; padding-left: 30px; padding-right: 30px; font-size: 120%; text-align: left; vertical-align: middle\"><span>rgba(255, 182, 176, 0.25)</span></td></tr><tr style=\"background-color: rgba(209, 153, 255, 0.25)\"><td style=\"width: 90px; background-color: transparent\"><a href=\"https://raw.githubusercontent.com/singlestore-labs/spaces-notebooks/master/common/images/header-icons/user-plus.png\"><img title=\"https://raw.githubusercontent.com/singlestore-labs/spaces-notebooks/master/common/images/header-icons/user-plus.png\" src=\"https://raw.githubusercontent.com/singlestore-labs/spaces-notebooks/master/common/images/header-icons/user-plus.png\"></a></td><td style=\"text-align: left; font-size: 120%\"><span>user-plus</span></td><td style=\"background-color: transparent; padding-left: 30px; padding-right: 30px; font-size: 120%; text-align: left; vertical-align: middle\"><span>rgba(209, 153, 255, 0.25)</span></td></tr><tr style=\"background-color: rgba(210, 255, 153, 0.25)\"><td style=\"width: 90px; background-color: transparent\"><a href=\"https://raw.githubusercontent.com/singlestore-labs/spaces-notebooks/master/common/images/header-icons/users.png\"><img title=\"https://raw.githubusercontent.com/singlestore-labs/spaces-notebooks/master/common/images/header-icons/users.png\" src=\"https://raw.githubusercontent.com/singlestore-labs/spaces-notebooks/master/common/images/header-icons/users.png\"></a></td><td style=\"text-align: left; font-size: 120%\"><span>users</span></td><td style=\"background-color: transparent; padding-left: 30px; padding-right: 30px; font-size: 120%; text-align: left; vertical-align: middle\"><span>rgba(210, 255, 153, 0.25)</span></td></tr><tr style=\"background-color: rgba(209, 153, 255, 0.25)\"><td style=\"width: 90px; background-color: transparent\"><a href=\"https://raw.githubusercontent.com/singlestore-labs/spaces-notebooks/master/common/images/header-icons/vector-circle.png\"><img title=\"https://raw.githubusercontent.com/singlestore-labs/spaces-notebooks/master/common/images/header-icons/vector-circle.png\" src=\"https://raw.githubusercontent.com/singlestore-labs/spaces-notebooks/master/common/images/header-icons/vector-circle.png\"></a></td><td style=\"text-align: left; font-size: 120%\"><span>vector-circle</span></td><td style=\"background-color: transparent; padding-left: 30px; padding-right: 30px; font-size: 120%; text-align: left; vertical-align: middle\"><span>rgba(209, 153, 255, 0.25)</span></td></tr><tr style=\"background-color: rgba(209, 153, 255, 0.25)\"><td style=\"width: 90px; background-color: transparent\"><a href=\"https://raw.githubusercontent.com/singlestore-labs/spaces-notebooks/master/common/images/header-icons/waveform.png\"><img title=\"https://raw.githubusercontent.com/singlestore-labs/spaces-notebooks/master/common/images/header-icons/waveform.png\" src=\"https://raw.githubusercontent.com/singlestore-labs/spaces-notebooks/master/common/images/header-icons/waveform.png\"></a></td><td style=\"text-align: left; font-size: 120%\"><span>waveform</span></td><td style=\"background-color: transparent; padding-left: 30px; padding-right: 30px; font-size: 120%; text-align: left; vertical-align: middle\"><span>rgba(209, 153, 255, 0.25)</span></td></tr></table></center>"
      ],
      "text/plain": [
       "<IPython.core.display.HTML object>"
      ]
     },
     "execution_count": 49,
     "metadata": {},
     "output_type": "execute_result"
    }
   ],
   "source": [
    "from IPython.display import HTML\n",
    "from PIL import Image\n",
    "import requests\n",
    "from urllib.request import urlopen\n",
    "\n",
    "bgcolors = {\n",
    "    (255, 167, 103): 'rgba(255, 167, 103, 0.25)',\n",
    "    (124, 195, 235): 'rgba(124, 195, 235, 0.25)',\n",
    "    (210, 255, 153): 'rgba(210, 255, 153, 0.25)',\n",
    "    (255, 224, 129): 'rgba(255, 224, 129, 0.25)',\n",
    "    (235, 249, 245): 'rgba(235, 249, 245, 0.25)',\n",
    "    (255, 182, 176): 'rgba(255, 182, 176, 0.25)',\n",
    "    (209, 153, 255): 'rgba(209, 153, 255, 0.25)',\n",
    "    (255, 230, 148): 'rgba(255, 224, 129, 0.25)',\n",
    "    (0, 0, 0): 'rgba(1, 1, 1, 0.25)',\n",
    "}\n",
    "\n",
    "header_icons_url = 'https://api.github.com/repos/singlestore-labs/spaces-notebooks/contents/common/images/header-icons'\n",
    "\n",
    "html = ['<center><table>']\n",
    "for i, item in enumerate(requests.get(header_icons_url).json()):\n",
    "    img = Image.open(urlopen(item['download_url']))\n",
    "    bgcolor = bgcolors[img.crop((0, 0, 1, 1)).getcolors()[0][1][:3]]\n",
    "    html.append(f'<tr style=\"background-color: {bgcolor}\">')\n",
    "    html.append(f'<td style=\"width: 90px; background-color: transparent\">')\n",
    "    html.append(f'<a href=\"{item[\"download_url\"]}\">')\n",
    "    html.append(f'<img title=\"{item[\"download_url\"]}\" src=\"{item[\"download_url\"]}\">')\n",
    "    html.append('</a>')\n",
    "    html.append('</td>')\n",
    "    html.append('<td style=\"text-align: left; font-size: 120%\">')\n",
    "    html.append(f'<span>{item[\"download_url\"].split(\".\")[-2].split(\"/\")[-1]}</span>')\n",
    "    html.append('</td>')\n",
    "    html.append('<td style=\"background-color: transparent; padding-left: 30px; padding-right: 30px; font-size: 120%; text-align: left; vertical-align: middle\">')\n",
    "    html.append(f'<span>{bgcolor}</span>')\n",
    "    html.append('</td>')\n",
    "    html.append('</tr>')\n",
    "html.append('</table></center>')\n",
    "\n",
    "HTML(''.join(html))"
   ]
  },
  {
   "cell_type": "markdown",
   "id": "a0c4d94d-104f-4b5a-b946-8fcf317c7fee",
   "metadata": {},
   "source": [
    "## Sections\n",
    "\n",
    "Sections within a notebook should use the second level heading (i.e., line starting with `##`) since the notebook\n",
    "header uses the first level heading. \n",
    "\n",
    "### Section numbering\n",
    "\n",
    "Sections can optionally be numbered if you wish to make the steps appear\n",
    "more sequential. If section numbers are used, they should contain the number (starting with 1) followed by a period as follows:\n",
    "\n",
    "    1. The first section\n",
    "    \n",
    "    2. The second section\n",
    "    \n",
    "### Capitalization\n",
    "\n",
    "Except for the notebook header, section titles should only capitalize the first letter and any proper \n",
    "names within the title (e.g., XML, JSON, SingleStore)."
   ]
  },
  {
   "cell_type": "markdown",
   "id": "f1720a29-5fbf-4933-bc13-89556ec7b68b",
   "metadata": {},
   "source": [
    "## Notes, warnings, and errors\n",
    "\n",
    "The following blocks demonstrate the markup for notes, warnings, and errors that need to stand out from normal text.\n",
    "They are rendered to match the formatting using in the SingleStore Cloud portal. Note that the rendering of these blocks\n",
    "will look different in a local Jupyter or Github installation because there are additional CSS rules that get applied\n",
    "in the SingleStore Cloud portal."
   ]
  },
  {
   "cell_type": "markdown",
   "id": "b271c522-0178-4b12-b2d1-44d0862b89ac",
   "metadata": {},
   "source": [
    "<div class=\"alert alert-block alert-success\">\n",
    "    <b class=\"fa fa-solid fa-check-circle\"></b>\n",
    "    <div>\n",
    "        <p><b>Success</b></p>\n",
    "        <p>Make sure to select the <tt>getting_started_notebook</tt> database from the drop-down menu at the top of this notebook.\n",
    "        It updates the <tt>connection_url</tt> to connect to that database.</p>\n",
    "    </div>\n",
    "</div>"
   ]
  },
  {
   "cell_type": "markdown",
   "id": "485a9fd2-bd3f-48f7-acd9-2e6f5ca46ff2",
   "metadata": {},
   "source": [
    "<div class=\"alert alert-block alert-info\">\n",
    "    <b class=\"fa fa-solid fa-info-circle\"></b>\n",
    "    <div>\n",
    "        <p><b>Note</b></p>\n",
    "        <p>Make sure to select the <tt>getting_started_notebook</tt> database from the drop-down menu at the top of this notebook.\n",
    "        It updates the <tt>connection_url</tt> to connect to that database.</p>\n",
    "    </div>\n",
    "</div>"
   ]
  },
  {
   "cell_type": "markdown",
   "id": "9dabeba6-b80f-4583-b7ed-45a1b5383a6e",
   "metadata": {},
   "source": [
    "<div class=\"alert alert-block alert-warning\">\n",
    "    <b class=\"fa fa-solid fa-exclamation-circle\"></b>\n",
    "    <div>\n",
    "        <p><b>Action Required</b></p>\n",
    "        <p>Make sure to select the <tt>getting_started_notebook</tt> database from the drop-down menu at the top of this notebook.\n",
    "    It updates the <tt>connection_url</tt> to connect to that database.</p>\n",
    "    </div>\n",
    "</div>"
   ]
  },
  {
   "cell_type": "markdown",
   "id": "d2c446be-c58a-4229-8139-b42a0fdf4428",
   "metadata": {},
   "source": [
    "<div class=\"alert alert-block alert-danger\">\n",
    "    <b class=\"fa fa-solid fa-exclamation-triangle\"></b>\n",
    "    <div>\n",
    "        <p><b>Error</b></p>\n",
    "        <p>Make sure to select the <tt>getting_started_notebook</tt> database from the drop-down menu at the top of this notebook.\n",
    "        It updates the <tt>connection_url</tt> to connect to that database.</p>\n",
    "    </div>\n",
    "</div>"
   ]
  },
  {
   "cell_type": "markdown",
   "id": "580ec204-c07b-49af-b941-739525e41265",
   "metadata": {},
   "source": [
    "## Python code\n",
    "\n",
    "Python code must follow the <a href=\"https://pep8.org\">PEP 8</a> style guide. While the entire spec is rather \n",
    "daunting, a short summary of the main points can be found <a href=\"https://tandysony.com/2018/02/14/pep-8.html\">here</a>.\n",
    "Key things to note are that class names should be in `CapWords`, functions and variables are in `snake_case`, constants\n",
    "are in all-uppercase `SNAKE_CASE`, indentation is always 4 spaces (no tabs).\n",
    "\n",
    "### Type annotations\n",
    "\n",
    "Type annotations should be used in functions and methods. This gives the code a more professional look and also helps\n",
    "readers to understand the code better.\n",
    "\n",
    "### Docstrings\n",
    "\n",
    "All classes and functions should be documented including the parameters. Since notebooks are more commonly used by \n",
    "data scientists who also use numpy and pandas, the format chosen for docstrings is \n",
    "<a href=\"https://numpydoc.readthedocs.io/en/latest/format.html\">numpydoc</a>. An example of a function documented with\n",
    "numpydoc is shown below."
   ]
  },
  {
   "cell_type": "code",
   "execution_count": 4,
   "id": "655ce2e3-6210-48ea-a8c8-b253fa66e827",
   "metadata": {},
   "outputs": [],
   "source": [
    "def my_function(txt: str, times: int, sep: str = ', ') -> str:\n",
    "    \"\"\"\n",
    "    Repeat the string `txt` the number of times given in `times`.\n",
    "    \n",
    "    Parameters\n",
    "    ----------\n",
    "    txt : str\n",
    "        The string to repeat\n",
    "    times : int\n",
    "        The number of times to repeat the string\n",
    "    sep : str, optional\n",
    "        The separator to use between repeats\n",
    "        \n",
    "    Notes\n",
    "    -----\n",
    "    The separator string may be an empty string if you want a \n",
    "    string with no delimiters.\n",
    "        \n",
    "    Returns\n",
    "    -------\n",
    "    str\n",
    "    \n",
    "    \"\"\"\n",
    "    return sep.join([txt] * times)"
   ]
  },
  {
   "cell_type": "markdown",
   "id": "d1ee6105-5e3c-4026-bdf0-7b4813a0ed8d",
   "metadata": {},
   "source": [
    "## Plotting\n",
    "\n",
    "When using plots from packages such as matplotlib, plotly, or bokeh, you should not change the style or theme used.\n",
    "The notebooks environment selects a style based on the current light / dark theme selected. Hard-coding a style\n",
    "into an example will break that capability."
   ]
  },
  {
   "cell_type": "markdown",
   "id": "75200b1c-5bf0-4c01-a6bb-9488411e959d",
   "metadata": {},
   "source": [
    "## Notebook footer\n",
    "\n",
    "All notebooks should use the same footer as shown below."
   ]
  },
  {
   "cell_type": "markdown",
   "id": "9deefd0a-6086-46df-b219-7819061c19d1",
   "metadata": {},
   "source": [
    "<div id=\"singlestore-footer\" style=\"background-color: rgba(194, 193, 199, 0.25); height:2px; margin-bottom:10px\"></div>\n",
    "<div><img src=\"https://raw.githubusercontent.com/singlestore-labs/spaces-notebooks/master/common/images/singlestore-logo-grey.png\" style=\"padding: 0px; margin: 0px; height: 24px\"/></div>\n",
    "</div>"
   ]
  },
  {
   "cell_type": "code",
   "execution_count": null,
   "id": "a96d9383-3cb8-4db0-9a63-b863d5e99f7d",
   "metadata": {},
   "outputs": [],
   "source": []
  }
 ],
 "metadata": {
  "kernelspec": {
   "display_name": "Python 3 (ipykernel)",
   "language": "python",
   "name": "python3"
  },
  "language_info": {
   "codemirror_mode": {
    "name": "ipython",
    "version": 3
   },
   "file_extension": ".py",
   "mimetype": "text/x-python",
   "name": "python",
   "nbconvert_exporter": "python",
   "pygments_lexer": "ipython3",
   "version": "3.11.3"
  }
 },
 "nbformat": 4,
 "nbformat_minor": 5
}
