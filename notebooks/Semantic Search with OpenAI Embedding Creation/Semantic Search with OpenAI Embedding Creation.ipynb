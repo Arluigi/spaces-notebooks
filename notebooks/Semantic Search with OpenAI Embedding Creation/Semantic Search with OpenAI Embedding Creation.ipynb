{
  "cells": [
    {
      "cell_type": "markdown",
      "id": "8e19358e-22e8-406c-ae17-d916db889313",
      "metadata": {},
      "source": "<div style=\"background-color: #1B1A21; text-align: right; margin-bottom: -1px\">\n    <img src=\"https://raw.githubusercontent.com/singlestore-labs/spaces-notebooks/master/common/images/singlestore-banner.png\" style=\"padding: 0px; padding-right: 20px; margin: 0px; padding-top: 20px; height: 60px\"/>\n    <img src=\"https://raw.githubusercontent.com/singlestore-labs/spaces-notebooks/master/common/images/banner-colors.png\" style=\"width:100%; height: 50px; padding: 0px; margin: 0px; margin-bottom: -8px\"/>\n</div>"
    },
    {
      "cell_type": "markdown",
      "id": "9bebf253-7913-4d7a-8ebc-f10463803baa",
      "metadata": {},
      "source": "# Semantic Search with OpenAI Embedding Creation\n\nIn this notebook, we will demonstrate an example of conducting semantic search on SingleStoreDB with SQL! Unlike traditional keyword-based search methods, semantic search algorithms take into account the relationships between words and their meanings, enabling them to deliver more accurate and relevant results – even when search terms are vague or ambiguous. \n\nSingleStoreDB’s built-in parallelization and Intel SIMD-based vector processing takes care of the heavy lifting involved in processing vector data. This allows your to run your ML algorithms right in your database extremely efficiently with just 2 lines of SQL!\n\n\nIn this example, we use Open AI embeddings API to create embeddings for our dataset and run semantic_search using dot_product vector matching function!"
    },
    {
      "cell_type": "markdown",
      "id": "358d1eb0-a0dd-423d-86ea-0d131abe4169",
      "metadata": {},
      "source": "## 1. Create a workspace in your workspace group\n\nS-00 is sufficient.\n\n## 2. Create a Database named `semantic_search`"
    },
    {
      "cell_type": "code",
      "execution_count": 8,
      "id": "af5e02fb-e15b-4c85-ac69-a40dd974cd88",
      "metadata": {
        "execution": {
          "iopub.execute_input": "2023-06-22T20:49:51.268884Z",
          "iopub.status.busy": "2023-06-22T20:49:51.268648Z",
          "iopub.status.idle": "2023-06-22T20:49:54.961303Z",
          "shell.execute_reply": "2023-06-22T20:49:54.960912Z",
          "shell.execute_reply.started": "2023-06-22T20:49:51.268869Z"
        },
        "tags": [],
        "trusted": true
      },
      "outputs": [
        {
          "data": {
            "text/plain": ""
          },
          "execution_count": 8,
          "metadata": {},
          "output_type": "execute_result"
        }
      ],
      "source": "%%sql\nDROP DATABASE IF EXISTS semantic_search;\n\nCREATE DATABASE semantic_search;"
    },
    {
      "cell_type": "markdown",
      "id": "284f2bdc-a428-4a55-9f1f-fce623914b34",
      "metadata": {},
      "source": "<div class=\"alert alert-block alert-danger\" style=\"font-size: 150%; font-weight: bold\">\n    <p style=\"float: left; padding-right: 20px; padding-left: 10px\"><img src=\"https://raw.githubusercontent.com/singlestore-labs/spaces-notebooks/master/common/images/caution.png\"/ style=\"height: 55px; vertical-align: middle\"></p>\n    <p>Make sure to select the <tt style=\"font-size: 80%\">semantic_search</tt> database from the drop-down menu at the top of this notebook.\n    It updates the <tt style=\"font-size: 80%\">connection_url</tt> to connect to that database.</p>\n</div>"
    },
    {
      "cell_type": "markdown",
      "id": "8124ab1c-7f17-47bc-9f8a-c7bd5a33a426",
      "metadata": {},
      "source": "## 3. Install and import required libraries\n\nWe will use the OpenAI embeddings API and will need to import the relevant dependencies accordingly. "
    },
    {
      "cell_type": "code",
      "execution_count": 12,
      "id": "af6146b2-a044-4dd8-b020-e3d8c1f91aba",
      "metadata": {
        "execution": {
          "iopub.execute_input": "2023-06-22T20:51:20.498521Z",
          "iopub.status.busy": "2023-06-22T20:51:20.498174Z",
          "iopub.status.idle": "2023-06-22T20:51:21.792685Z",
          "shell.execute_reply": "2023-06-22T20:51:21.792179Z",
          "shell.execute_reply.started": "2023-06-22T20:51:20.498507Z"
        },
        "tags": [],
        "trusted": true
      },
      "outputs": [],
      "source": "!pip3 install openai matplotlib plotly pandas scipy scikit-learn requests --quiet\n\nimport json\nimport os\n\nimport openai\nimport requests\nfrom openai.embeddings_utils import get_embedding"
    },
    {
      "cell_type": "markdown",
      "id": "f80d23bc-7e98-4ac8-b2a0-7a737e4010e5",
      "metadata": {},
      "source": "## 4. Create an OpenAI account and get API connection details\n\nTo vectorize and embed the employee reviews and query strings, we leverage OpenAI's embeddings API. To use this API, you will need an API key, which you can get [here](https://platform.openai.com/account/api-keys). You'll need to add a payment method to actually get vector embeddings using the API, though the charges are minimal for a small example like we present here."
    },
    {
      "cell_type": "markdown",
      "id": "22de8d4c-6b79-4496-8812-37e0b82e980b",
      "metadata": {
        "execution": {},
        "tags": []
      },
      "source": "<div class=\"alert alert-block alert-danger\" style=\"font-size: 150%; font-weight: bold\">\n    <p style=\"float: left; padding-right: 20px; padding-left: 10px\"><img src=\"https://raw.githubusercontent.com/singlestore-labs/spaces-notebooks/master/common/images/caution.png\"/ style=\"height: 55px; vertical-align: middle\"></p>\n    <p>You will have to update your notebook's firewall settings to include <tt style=\"font-size: 90%\">*.*.openai.com</tt> in order to get embedddings from OpenAI APIS.</p>\n</div>"
    },
    {
      "cell_type": "code",
      "execution_count": 39,
      "id": "a463c0fd-c747-4605-a728-c22a2fa17cfb",
      "metadata": {
        "execution": {
          "iopub.execute_input": "2023-06-22T20:59:12.136081Z",
          "iopub.status.busy": "2023-06-22T20:59:12.135846Z",
          "iopub.status.idle": "2023-06-22T20:59:12.138250Z",
          "shell.execute_reply": "2023-06-22T20:59:12.137849Z",
          "shell.execute_reply.started": "2023-06-22T20:59:12.136066Z"
        },
        "tags": [],
        "trusted": true
      },
      "outputs": [],
      "source": "openai.api_key = '<OPEN_AI_API_KEY>'"
    },
    {
      "cell_type": "markdown",
      "id": "17fb3aad-e3a8-4a2a-985c-64f0c94431b8",
      "metadata": {},
      "source": "## 5. Create a new table in your database called reviews"
    },
    {
      "cell_type": "code",
      "execution_count": 22,
      "id": "e3af3810-0ce5-432b-a879-4eaa16524d38",
      "metadata": {
        "execution": {
          "iopub.execute_input": "2023-06-22T20:54:58.164838Z",
          "iopub.status.busy": "2023-06-22T20:54:58.164630Z",
          "iopub.status.idle": "2023-06-22T20:54:58.279245Z",
          "shell.execute_reply": "2023-06-22T20:54:58.278868Z",
          "shell.execute_reply.started": "2023-06-22T20:54:58.164826Z"
        },
        "tags": [],
        "trusted": true
      },
      "outputs": [
        {
          "data": {
            "text/plain": ""
          },
          "execution_count": 22,
          "metadata": {},
          "output_type": "execute_result"
        }
      ],
      "source": "%%sql\nCREATE TABLE reviews (\n    date_review VARCHAR(255), \n    job_title VARCHAR(255), \n    location VARCHAR(255), \n    review TEXT\n);"
    },
    {
      "cell_type": "markdown",
      "id": "db124797-a11c-4a97-9f58-b337c50014e3",
      "metadata": {},
      "source": "## 6. Import our sample data into your table\n\nThis dataset has 15 reviews left by anonymous employees of a firm."
    },
    {
      "cell_type": "code",
      "execution_count": 23,
      "id": "bce5a7cb-ad4f-4293-8bc3-9d09f76ae5e8",
      "metadata": {
        "execution": {
          "iopub.execute_input": "2023-06-22T20:55:24.702121Z",
          "iopub.status.busy": "2023-06-22T20:55:24.701859Z",
          "iopub.status.idle": "2023-06-22T20:55:24.704309Z",
          "shell.execute_reply": "2023-06-22T20:55:24.703976Z",
          "shell.execute_reply.started": "2023-06-22T20:55:24.702106Z"
        },
        "tags": [],
        "trusted": true
      },
      "outputs": [],
      "source": "url = 'https://raw.githubusercontent.com/singlestore-labs/singlestoredb-samples/main/' + \\\n      'Tutorials/ai-powered-semantic-search/hr_sample_data.sql'"
    },
    {
      "cell_type": "markdown",
      "id": "7ddec245-7c79-40ea-85b2-7a88e25e5321",
      "metadata": {},
      "source": "Note that we are using the `%sql` magic command here to run a query against the currently\nselected database."
    },
    {
      "cell_type": "code",
      "execution_count": 26,
      "id": "227c2fcf-2dc8-4ed2-92f1-5a28667bf3d3",
      "metadata": {
        "execution": {
          "iopub.execute_input": "2023-06-22T20:56:08.319853Z",
          "iopub.status.busy": "2023-06-22T20:56:08.319625Z",
          "iopub.status.idle": "2023-06-22T20:56:08.724838Z",
          "shell.execute_reply": "2023-06-22T20:56:08.724445Z",
          "shell.execute_reply.started": "2023-06-22T20:56:08.319839Z"
        },
        "tags": [],
        "trusted": true
      },
      "outputs": [],
      "source": "for query in [x for x in requests.get(url).text.split('\\n') if x.strip()]:\n     %sql {{query}}"
    },
    {
      "cell_type": "markdown",
      "id": "8188ccb2-d5cf-48b5-8c9f-8b3858c18ae7",
      "metadata": {},
      "source": "## 7. Add vector embeddings for each review\n\nTo embed the reviews in our SingleStoreDB database, we iterate through each row in the table, make a call to OpenAI’s embeddings API with the text in the reviews field and update the new column called embeddings for each entry. "
    },
    {
      "cell_type": "code",
      "execution_count": 29,
      "id": "419a690a-810c-4c80-b7ea-fd25cf1d5e80",
      "metadata": {
        "execution": {
          "iopub.execute_input": "2023-06-22T20:57:06.761130Z",
          "iopub.status.busy": "2023-06-22T20:57:06.760555Z",
          "iopub.status.idle": "2023-06-22T20:57:09.489754Z",
          "shell.execute_reply": "2023-06-22T20:57:09.489398Z",
          "shell.execute_reply.started": "2023-06-22T20:57:06.761104Z"
        },
        "tags": [],
        "trusted": true
      },
      "outputs": [],
      "source": "%sql ALTER TABLE reviews ADD embeddings BLOB;\n\nreviews = %sql SELECT review FROM reviews;\n\nfor i in reviews:\n    review_embedding = json.dumps(get_embedding(i[0], engine=\"text-embedding-ada-002\"))\n    %sql UPDATE reviews SET embeddings = JSON_ARRAY_PACK('{{review_embedding}}') WHERE review='{{i[0]}}';"
    },
    {
      "cell_type": "markdown",
      "id": "e34e62fb-7690-4a31-a874-ff7856d16cc7",
      "metadata": {},
      "source": "## 8. Run the semantic search algorithm with just one line of SQL\n\nWe will utilize SingleStoreDB's distributed architecture to efficiently compute the dot product of the input string (stored in searchstring) with each entry in the database and return the top 5  reviews with the highest dot product score. Each vector is normalized to length 1, hence the dot product function essentially computes the cosine similarity between two vectors – an appropriate nearness metric. SingleStoreDB makes this extremely fast because it compiles queries to machine code and runs dot_product using SIMD instructions."
    },
    {
      "cell_type": "code",
      "execution_count": 32,
      "id": "08bd6b1c-9731-4062-9b9a-a5e1a1d8efa3",
      "metadata": {
        "execution": {
          "iopub.execute_input": "2023-06-22T20:58:00.327484Z",
          "iopub.status.busy": "2023-06-22T20:58:00.327246Z",
          "iopub.status.idle": "2023-06-22T20:58:10.334189Z",
          "shell.execute_reply": "2023-06-22T20:58:10.333831Z",
          "shell.execute_reply.started": "2023-06-22T20:58:00.327470Z"
        },
        "tags": [],
        "trusted": true
      },
      "outputs": [
        {
          "name": "stdin",
          "output_type": "stream",
          "text": "Please enter a search string:  test search\n"
        },
        {
          "name": "stdout",
          "output_type": "stream",
          "text": "1: Some good people to work with. Flexible working. Out of hours language classes and aerobics. Morale. Lack of managerial structure. Doesnt seem to support career progression. No formal training Score: 0.7393652200698853\n2: client reporting admin. Easy to get the job, Nice colleagues. Abysmal pay, around minimum wage. No actual training for your job role. No incentive to improve. Score: 0.735421359539032\n3: While the work itself is satisfactory, the daily commute can be a bit of a hassle. Although the company offers no solution for this issue, it is not uncommon to have this challenge in larger cities. Overall, if you can tolerate the commute, it could be a suitable place to work. Score: 0.7307074069976807\n4: Low salary, bad micromanagement. Easy to get the job even without experience in finance. Very low salary, poor working conditions, very little training provided but high expectations Score: 0.7303189635276794\n5: The company provides an excellent career path with plenty of opportunities for professional development and advancement. The management team is supportive and encourages employees to learn new skills and take on new challenges. Overall, I feel fortunate to be part of an organization that values its employees growth and success. Score: 0.7291750907897949\n"
        }
      ],
      "source": "searchstring = input(\"Please enter a search string: \")\n\nsearch_embedding = json.dumps(get_embedding(searchstring, engine=\"text-embedding-ada-002\")) \n\nresults = %sql SELECT review, DOT_PRODUCT(embeddings, JSON_ARRAY_PACK('{{search_embedding}}')) AS Score FROM reviews ORDER BY Score DESC LIMIT 5;\n\nfor i, res in enumerate(results):\n    print(f'{i + 1}: {res[0]} Score: {res[1]}')"
    },
    {
      "cell_type": "markdown",
      "id": "0383939d-7fd3-434d-a27b-952eeed40e5f",
      "metadata": {},
      "source": "## 9. Clean up"
    },
    {
      "cell_type": "code",
      "execution_count": 35,
      "id": "0e91592f-4856-4cab-b15e-23585f551ab3",
      "metadata": {
        "execution": {
          "iopub.execute_input": "2023-06-22T20:58:35.976334Z",
          "iopub.status.busy": "2023-06-22T20:58:35.976091Z",
          "iopub.status.idle": "2023-06-22T20:58:36.929682Z",
          "shell.execute_reply": "2023-06-22T20:58:36.929225Z",
          "shell.execute_reply.started": "2023-06-22T20:58:35.976319Z"
        },
        "tags": [],
        "trusted": true
      },
      "outputs": [
        {
          "data": {
            "text/plain": ""
          },
          "execution_count": 35,
          "metadata": {},
          "output_type": "execute_result"
        }
      ],
      "source": "%%sql\nDROP DATABASE semantic_search;"
    },
    {
      "cell_type": "markdown",
      "id": "a6829f66-b37e-493d-9631-6da519140485",
      "metadata": {},
      "source": "<img src=\"https://raw.githubusercontent.com/singlestore-labs/spaces-notebooks/master/common/images/banner-colors-reverse.png\" style=\"width: 100%; margin: 0; padding: 0\"/>"
    },
    {
      "cell_type": "code",
      "execution_count": null,
      "id": "f8d16967-4792-4a55-a723-8d690426d016",
      "metadata": {},
      "outputs": [],
      "source": ""
    }
  ],
  "metadata": {
    "kernelspec": {
      "display_name": "Python 3 (ipykernel)",
      "language": "python",
      "name": "python3"
    },
    "language_info": {
      "codemirror_mode": {
        "name": "ipython",
        "version": 3
      },
      "file_extension": ".py",
      "mimetype": "text/x-python",
      "name": "python",
      "nbconvert_exporter": "python",
      "pygments_lexer": "ipython3",
      "version": "3.10.9"
    },
    "singlestore_connection": {
      "connectionID": "a3f0247c-245c-43f5-8a73-1dfc14489398",
      "defaultDatabase": ""
    }
  },
  "nbformat": 4,
  "nbformat_minor": 5
}
