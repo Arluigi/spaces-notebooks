{
  "cells": [
    {
      "attachments": {},
      "cell_type": "markdown",
      "id": "e4bb409e",
      "metadata": {},
      "source": [
        "<div style=\"background-color: #1B1A21; text-align: right; margin-bottom: -1px\">\n",
        "    <img src=\"https://raw.githubusercontent.com/singlestore-labs/spaces-notebooks/master/common/images/singlestore-banner.png\" style=\"padding: 0px; padding-right: 20px; margin: 0px; padding-top: 20px; height: 60px\"/>\n",
        "    <img src=\"https://raw.githubusercontent.com/singlestore-labs/spaces-notebooks/master/common/images/banner-colors.png\" style=\"width:100%; height: 50px; padding: 0px; margin: 0px; margin-bottom: -8px\"/>\n",
        "</div>"
      ]
    },
    {
      "cell_type": "code",
      "execution_count": null,
      "id": "be57e1dd-8030-4551-81bb-d25b1017188b",
      "metadata": {},
      "outputs": [],
      "source": [
        "!pip install langchain --quiet\n",
        "!pip install openai --quiet\n",
        "!pip install pdf2image --quiet\n",
        "!pip install tabulate --quiet\n",
        "!pip install tiktoken --quiet\n",
        "!pip install unstructured --quiet"
      ]
    },
    {
      "cell_type": "code",
      "execution_count": null,
      "id": "b21ec610-517c-4fcc-bd19-217b2675c8a9",
      "metadata": {},
      "outputs": [],
      "source": [
        "from langchain.document_loaders import OnlinePDFLoader\n",
        "\n",
        "loader = OnlinePDFLoader(\"http://leavcom.com/pdf/DBpdf.pdf\")\n",
        "\n",
        "data = loader.load()"
      ]
    },
    {
      "cell_type": "code",
      "execution_count": null,
      "id": "a40099c8-f859-4707-a3c9-635bbc693806",
      "metadata": {},
      "outputs": [],
      "source": [
        "from langchain.text_splitter import RecursiveCharacterTextSplitter\n",
        "\n",
        "print (f\"You have {len(data)} document(s) in your data\")\n",
        "print (f\"There are {len(data[0].page_content)} characters in your document\")"
      ]
    },
    {
      "cell_type": "code",
      "execution_count": null,
      "id": "dd303fc1-d02b-460d-a81e-3a313cab1a59",
      "metadata": {},
      "outputs": [],
      "source": [
        "text_splitter = RecursiveCharacterTextSplitter(chunk_size = 2000, chunk_overlap = 0)\n",
        "texts = text_splitter.split_documents(data)\n",
        "\n",
        "print (f\"You have {len(texts)} pages\")"
      ]
    },
    {
      "cell_type": "code",
      "execution_count": null,
      "id": "5c05e57c-3300-4c1a-867c-383c621f2b94",
      "metadata": {},
      "outputs": [],
      "source": [
        "%%sql\n",
        "\n",
        "DROP DATABASE IF EXISTS pdf_db;\n",
        "CREATE DATABASE IF NOT EXISTS pdf_db;"
      ]
    },
    {
      "cell_type": "code",
      "execution_count": null,
      "id": "0d2c027b-883b-4e2b-9594-b5c4cc41af24",
      "metadata": {},
      "outputs": [],
      "source": [
        "%%sql\n",
        "\n",
        "USE pdf_db;\n",
        "DROP TABLE IF EXISTS pdf_docs1;\n",
        "CREATE TABLE IF NOT EXISTS pdf_docs1 (\n",
        "    id INT PRIMARY KEY,\n",
        "    content TEXT CHARACTER SET utf8mb4 COLLATE utf8mb4_general_ci,\n",
        "    vector BLOB\n",
        ");"
      ]
    },
    {
      "cell_type": "code",
      "execution_count": null,
      "id": "ee2b2b89-859b-4c8b-b653-cc8df62be869",
      "metadata": {},
      "outputs": [],
      "source": [
        "from sqlalchemy import *\n",
        "\n",
        "db_connection = create_engine(connection_url)"
      ]
    },
    {
      "cell_type": "code",
      "execution_count": null,
      "id": "df0283f6-66fa-4b2e-bf5c-024864896c28",
      "metadata": {},
      "outputs": [],
      "source": [
        "import os\n",
        "import getpass\n",
        "\n",
        "os.environ[\"OPENAI_API_KEY\"] = getpass.getpass(\"OpenAI API Key:\")"
      ]
    },
    {
      "cell_type": "code",
      "execution_count": null,
      "id": "c3709108-1fb7-469a-9f03-970b2f8cd9c3",
      "metadata": {},
      "outputs": [],
      "source": [
        "from langchain.embeddings import OpenAIEmbeddings\n",
        "\n",
        "embedder = OpenAIEmbeddings()"
      ]
    },
    {
      "cell_type": "code",
      "execution_count": null,
      "id": "5b5d8f1c-e9a1-4010-bd77-fc209b52bdb6",
      "metadata": {},
      "outputs": [],
      "source": [
        "for i, document in enumerate(texts):\n",
        "    text_content = document.page_content\n",
        "\n",
        "    embedding = embedder.embed_documents([text_content])[0]\n",
        "\n",
        "    stmt = \"\"\"\n",
        "        INSERT INTO pdf_docs1 (\n",
        "            id,\n",
        "            content,\n",
        "            vector\n",
        "        )\n",
        "        VALUES (\n",
        "            %s,\n",
        "            %s,\n",
        "            JSON_ARRAY_PACK_F32(%s)\n",
        "        )\n",
        "    \"\"\"\n",
        "\n",
        "    db_connection.execute(stmt, (i+1, text_content, str(embedding)))"
      ]
    },
    {
      "cell_type": "code",
      "execution_count": null,
      "id": "0226773e-b1eb-4e06-a92e-918c375b15a1",
      "metadata": {},
      "outputs": [],
      "source": [
        "%%sql\n",
        "\n",
        "USE pdf_db;\n",
        "SELECT JSON_ARRAY_UNPACK_F32(vector)\n",
        "FROM pdf_docs1\n",
        "LIMIT 1;"
      ]
    },
    {
      "cell_type": "code",
      "execution_count": null,
      "id": "5597f268-7dc2-4453-a5b1-e40fb211d0e8",
      "metadata": {},
      "outputs": [],
      "source": [
        "query_text = \"Will object-oriented databases be commercially successful?\"\n",
        "\n",
        "query_embedding = embedder.embed_documents([query_text])[0]\n",
        "\n",
        "stmt = \"\"\"\n",
        "    SELECT\n",
        "        content,\n",
        "        DOT_PRODUCT_F32(JSON_ARRAY_PACK_F32(%s), vector) AS score\n",
        "    FROM pdf_docs1\n",
        "    ORDER BY score DESC\n",
        "    LIMIT 1\n",
        "\"\"\"\n",
        "\n",
        "results = db_connection.execute(stmt, str(query_embedding))\n",
        "\n",
        "for row in results:\n",
        "    print(row[0])"
      ]
    },
    {
      "cell_type": "code",
      "execution_count": null,
      "id": "a469ffbd-5084-4c5a-b961-a8c908c391ce",
      "metadata": {},
      "outputs": [],
      "source": [
        "import openai\n",
        "\n",
        "prompt = f\"The user asked: {query_text}. The most similar text from the document is: {row[0]}\"\n",
        "\n",
        "response = openai.ChatCompletion.create(\n",
        "    model=\"gpt-3.5-turbo\",\n",
        "    messages=[\n",
        "        {\"role\": \"system\", \"content\": \"You are a helpful assistant.\"},\n",
        "        {\"role\": \"user\", \"content\": prompt}\n",
        "    ]\n",
        ")\n",
        "\n",
        "print(response['choices'][0]['message']['content'])"
      ]
    }
  ],
  "metadata": {
    "jupyterlab": {
      "notebooks": {
        "version_major": 6,
        "version_minor": 4
      }
    },
    "kernelspec": {
      "display_name": "Python 3 (ipykernel)",
      "language": "python",
      "name": "python3"
    },
    "language_info": {
      "codemirror_mode": {
        "name": "ipython",
        "version": 3
      },
      "file_extension": ".py",
      "mimetype": "text/x-python",
      "name": "python",
      "nbconvert_exporter": "python",
      "pygments_lexer": "ipython3",
      "version": "3.10.9"
    }
  },
  "nbformat": 4,
  "nbformat_minor": 5
}
