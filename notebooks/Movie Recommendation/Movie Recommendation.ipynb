{
  "cells": [
    {
      "cell_type": "markdown",
      "id": "ce06fbf2-db8e-4fb9-9036-40f9ec8c4592",
      "metadata": {},
      "source": "<div style=\"background-color: #1B1A21; text-align: right; margin-bottom: -1px\">\n    <img src=\"https://raw.githubusercontent.com/singlestore-labs/notebook-picture/main/singlestore-banner.png\" style=\"padding: 0px; padding-right: 20px; margin: 0px; padding-top: 20px; height: 60px\"/>\n    <img src=\"https://raw.githubusercontent.com/singlestore-labs/notebook-picture/main/banner-colors.png\" style=\"width:100%; height: 50px; padding: 0px; margin: 0px; margin-bottom: -8px\"/>\n</div>"
    },
    {
      "cell_type": "markdown",
      "id": "7ed6450d-8003-47b8-9d31-4ffa221906ae",
      "metadata": {},
      "source": "# Movie Recommendation\n\n*Source*: [Full MovieLens 25M Dataset](https://grouplens.org/datasets/movielens/25m/)\n\nThis notebook demonstrates how SingleStoreDB helps you build a simple Movie Recommender System.\n\n<img src=https://raw.githubusercontent.com/singlestore-labs/notebook-picture/main/database_tables.png width=\"1000\">"
    },
    {
      "cell_type": "markdown",
      "id": "f940c981-b378-40cf-bb24-53b6015e486d",
      "metadata": {},
      "source": "## 1. Install required libraries\n\nInstall the library for vectorizing the data (up to 2 minutes)."
    },
    {
      "cell_type": "code",
      "execution_count": 9,
      "id": "4fc72c97-8ba9-462b-b241-ae2ff4e7531c",
      "metadata": {
        "execution": {
          "iopub.execute_input": "2023-06-26T19:39:29.501924Z",
          "iopub.status.busy": "2023-06-26T19:39:29.501615Z",
          "iopub.status.idle": "2023-06-26T19:40:56.133823Z",
          "shell.execute_reply": "2023-06-26T19:40:56.133061Z",
          "shell.execute_reply.started": "2023-06-26T19:39:29.501904Z"
        },
        "tags": [],
        "trusted": true
      },
      "outputs": [],
      "source": "!pip install sentence-transformers --quiet"
    },
    {
      "cell_type": "markdown",
      "id": "5c9049cb-88b8-411a-b926-2517bd44859e",
      "metadata": {},
      "source": "## 2. Create database and ingest data"
    },
    {
      "cell_type": "markdown",
      "id": "2642c910-72a8-433b-b5fe-e5654f93f239",
      "metadata": {},
      "source": "Create the `movie_recommender` database."
    },
    {
      "cell_type": "code",
      "execution_count": 15,
      "id": "fd83f672-5ef5-4a8e-9e7a-267dd19815f7",
      "metadata": {
        "execution": {
          "iopub.execute_input": "2023-06-26T19:41:04.317350Z",
          "iopub.status.busy": "2023-06-26T19:41:04.316736Z",
          "iopub.status.idle": "2023-06-26T19:41:14.521788Z",
          "shell.execute_reply": "2023-06-26T19:41:14.521162Z",
          "shell.execute_reply.started": "2023-06-26T19:41:04.317332Z"
        },
        "tags": [],
        "trusted": true
      },
      "outputs": [
        {
          "data": {
            "text/plain": ""
          },
          "execution_count": 15,
          "metadata": {},
          "output_type": "execute_result"
        }
      ],
      "source": "%%sql\nDROP DATABASE IF EXISTS movie_recommender;\n\nCREATE DATABASE movie_recommender;"
    },
    {
      "cell_type": "markdown",
      "id": "d6c75b9a-7a1f-44fe-9e25-f67f75c0d11f",
      "metadata": {},
      "source": "<div class=\"alert alert-block alert-danger\" style=\"font-size: 150%; font-weight: bold\">\n    <p style=\"float: left; padding-right: 20px; padding-left: 10px\"><img src=\"https://raw.githubusercontent.com/singlestore-labs/notebook-picture/main/caution.png\"/ style=\"height: 55px; vertical-align: middle\"></p>\n    <p>Make sure to select the <tt style=\"font-size: 80%\">movie_recommender</tt> database from the drop-down menu at the top of this notebook.\n    It updates the <tt style=\"font-size: 80%\">connection_url</tt> to connect to that database.</p>\n</div>"
    },
    {
      "cell_type": "markdown",
      "id": "d215945f-3dcf-4e8d-b201-361af227260c",
      "metadata": {},
      "source": "Create `tags` table and start pipeline."
    },
    {
      "cell_type": "code",
      "execution_count": 18,
      "id": "f6e6f6d6-87c0-4cf8-9d21-72edf3416e8d",
      "metadata": {
        "execution": {
          "iopub.execute_input": "2023-06-26T19:41:35.556340Z",
          "iopub.status.busy": "2023-06-26T19:41:35.555925Z",
          "iopub.status.idle": "2023-06-26T19:41:35.895848Z",
          "shell.execute_reply": "2023-06-26T19:41:35.895210Z",
          "shell.execute_reply.started": "2023-06-26T19:41:35.556323Z"
        },
        "tags": [],
        "trusted": true
      },
      "outputs": [
        {
          "data": {
            "text/plain": ""
          },
          "execution_count": 18,
          "metadata": {},
          "output_type": "execute_result"
        }
      ],
      "source": "%%sql\nCREATE TABLE IF NOT EXISTS tags (\n    `userId` bigint(20) NULL,\n    `movieId` bigint(20) NULL,\n    `tag` text CHARACTER SET utf8 COLLATE utf8_general_ci NULL,\n    `timestamp` bigint(20) NULL\n);\n\nCREATE PIPELINE tags\n    AS LOAD DATA S3 'studiotutorials/movielens/tags.csv'\n    CONFIG '{\\\"region\\\":\\\"us-east-1\\\", \\\"disable_gunzip\\\": false}'\n    BATCH_INTERVAL 2500\n    MAX_PARTITIONS_PER_BATCH 1\n    DISABLE OUT_OF_ORDER OPTIMIZATION\n    DISABLE OFFSETS METADATA GC\n    SKIP DUPLICATE KEY ERRORS\n    INTO TABLE `tags`\n    FIELDS TERMINATED BY ',' ENCLOSED BY '\"' ESCAPED BY '\\\\'\n    LINES TERMINATED BY '\\r\\n'\n    NULL DEFINED BY ''\n    IGNORE 1 LINES\n    (userId, movieId, tag, timestamp);\n\nSTART PIPELINE tags;"
    },
    {
      "cell_type": "markdown",
      "id": "a85c13ff-e719-46b4-a781-891d60415ca8",
      "metadata": {},
      "source": "Create `ratings` table and start pipeline."
    },
    {
      "cell_type": "code",
      "execution_count": 19,
      "id": "4c55da7c-fc1e-446c-aa9d-52ee3b085d97",
      "metadata": {
        "execution": {
          "iopub.execute_input": "2023-06-26T19:41:39.487552Z",
          "iopub.status.busy": "2023-06-26T19:41:39.487032Z",
          "iopub.status.idle": "2023-06-26T19:41:39.759092Z",
          "shell.execute_reply": "2023-06-26T19:41:39.757693Z",
          "shell.execute_reply.started": "2023-06-26T19:41:39.487531Z"
        },
        "tags": [],
        "trusted": true
      },
      "outputs": [
        {
          "data": {
            "text/plain": ""
          },
          "execution_count": 19,
          "metadata": {},
          "output_type": "execute_result"
        }
      ],
      "source": "%%sql\nCREATE TABLE IF NOT EXISTS ratings (\n    userId bigint(20) DEFAULT NULL,\n    movieId bigint(20) DEFAULT NULL,\n    rating double DEFAULT NULL,\n    timestamp bigint(20) DEFAULT NULL\n);\n\nCREATE PIPELINE ratings\n    AS LOAD DATA S3 'studiotutorials/movielens/ratings.csv'\n    CONFIG '{\\\"region\\\":\\\"us-east-1\\\", \\\"disable_gunzip\\\": false}'\n    BATCH_INTERVAL 2500\n    MAX_PARTITIONS_PER_BATCH 1\n    DISABLE OUT_OF_ORDER OPTIMIZATION\n    DISABLE OFFSETS METADATA GC\n    SKIP DUPLICATE KEY ERRORS\n    INTO TABLE `ratings`\n    FIELDS TERMINATED BY ',' ENCLOSED BY '\"' ESCAPED BY '\\\\'\n    LINES TERMINATED BY '\\r\\n'\n    NULL DEFINED BY ''\n    IGNORE 1 LINES\n    (userId, movieId, rating, timestamp);\n\nSTART PIPELINE ratings;"
    },
    {
      "cell_type": "markdown",
      "id": "e79e99ac-190b-481c-bf8f-7d66265fba81",
      "metadata": {},
      "source": "Create `movies` table and start pipeline."
    },
    {
      "cell_type": "code",
      "execution_count": 20,
      "id": "fba97ca5-3673-4ce8-b6f7-3214f6205bd9",
      "metadata": {
        "execution": {
          "iopub.execute_input": "2023-06-26T19:41:41.205435Z",
          "iopub.status.busy": "2023-06-26T19:41:41.204980Z",
          "iopub.status.idle": "2023-06-26T19:41:41.520157Z",
          "shell.execute_reply": "2023-06-26T19:41:41.519526Z",
          "shell.execute_reply.started": "2023-06-26T19:41:41.205414Z"
        },
        "tags": [],
        "trusted": true
      },
      "outputs": [
        {
          "data": {
            "text/plain": ""
          },
          "execution_count": 20,
          "metadata": {},
          "output_type": "execute_result"
        }
      ],
      "source": "%%sql\nCREATE TABLE movies (\n    movieId bigint(20) DEFAULT NULL,\n    title text CHARACTER SET utf8 COLLATE utf8_general_ci,\n    genres text CHARACTER SET utf8 COLLATE utf8_general_ci,\n    FULLTEXT(title)\n);\n\nCREATE PIPELINE movies\n    AS LOAD DATA S3 'studiotutorials/movielens/movies.csv'\n    CONFIG '{\\\"region\\\":\\\"us-east-1\\\", \\\"disable_gunzip\\\": false}'\n    BATCH_INTERVAL 2500\n    MAX_PARTITIONS_PER_BATCH 1\n    DISABLE OUT_OF_ORDER OPTIMIZATION\n    DISABLE OFFSETS METADATA GC\n    SKIP DUPLICATE KEY ERRORS\n    INTO TABLE `movies`\n    FIELDS TERMINATED BY ',' ENCLOSED BY '\"' ESCAPED BY '\\\\'\n    LINES TERMINATED BY '\\r\\n'\n    NULL DEFINED BY ''\n    IGNORE 1 LINES\n    (movieId, title, genres);\n\nSTART PIPELINE movies;"
    },
    {
      "cell_type": "markdown",
      "id": "6e41ed09-2cc3-4fb7-90da-077a04111417",
      "metadata": {},
      "source": "### Check that all the data has been loaded\n\nThere should be 25m rows for ratings, 62k for movies and 1m for tags. If the values are less than that, try the query\nagain in a few seconds, the pipelines are still running."
    },
    {
      "cell_type": "code",
      "execution_count": 21,
      "id": "cf4c1d0f-8de2-42ea-ab33-7dadbde74855",
      "metadata": {
        "execution": {
          "iopub.execute_input": "2023-06-26T19:41:42.884287Z",
          "iopub.status.busy": "2023-06-26T19:41:42.883981Z",
          "iopub.status.idle": "2023-06-26T19:41:43.107779Z",
          "shell.execute_reply": "2023-06-26T19:41:43.107113Z",
          "shell.execute_reply.started": "2023-06-26T19:41:42.884267Z"
        },
        "tags": [],
        "trusted": true
      },
      "outputs": [
        {
          "data": {
            "text/html": "<table>\n    <thead>\n        <tr>\n            <th>count_rows</th>\n        </tr>\n    </thead>\n    <tbody>\n        <tr>\n            <td>0</td>\n        </tr>\n        <tr>\n            <td>62423</td>\n        </tr>\n        <tr>\n            <td>1093360</td>\n        </tr>\n    </tbody>\n</table>",
            "text/plain": "+------------+\n| count_rows |\n+------------+\n|     0      |\n|   62423    |\n|  1093360   |\n+------------+"
          },
          "execution_count": 21,
          "metadata": {},
          "output_type": "execute_result"
        }
      ],
      "source": "%%sql\nSELECT COUNT(*) AS count_rows FROM ratings\nUNION ALL\nSELECT COUNT(*) AS count_rows FROM movies\nUNION ALL\nSELECT COUNT(*) AS count_rows FROM tags"
    },
    {
      "cell_type": "markdown",
      "id": "0fb4162d-a55a-4926-9ce0-500d5909e3a2",
      "metadata": {},
      "source": "### Concatenate `tags` and `movies` tables using all tags"
    },
    {
      "cell_type": "code",
      "execution_count": 23,
      "id": "17be3378-28ea-4487-9177-a266d0998a08",
      "metadata": {
        "execution": {
          "iopub.execute_input": "2023-06-26T19:41:45.430148Z",
          "iopub.status.busy": "2023-06-26T19:41:45.429710Z",
          "iopub.status.idle": "2023-06-26T19:41:48.119895Z",
          "shell.execute_reply": "2023-06-26T19:41:48.119110Z",
          "shell.execute_reply.started": "2023-06-26T19:41:45.430130Z"
        },
        "tags": [],
        "trusted": true
      },
      "outputs": [
        {
          "data": {
            "text/plain": ""
          },
          "execution_count": 23,
          "metadata": {},
          "output_type": "execute_result"
        }
      ],
      "source": "%%sql\nCREATE TABLE movies_with_tags AS\n    SELECT \n        m.movieId, \n        m.title, \n        m.genres,\n        GROUP_CONCAT(t.tag SEPARATOR ',') AS all_tags\n    FROM movies m\n    LEFT JOIN tags t ON m.movieId = t.movieId\n    GROUP BY m.movieId, m.title, m.genres;"
    },
    {
      "cell_type": "markdown",
      "id": "f4f2be44-5c5d-4113-9b9e-55bfa89d5d5b",
      "metadata": {},
      "source": "## 3. Vectorize data"
    },
    {
      "cell_type": "markdown",
      "id": "f300136e-2a85-4095-867d-7723b3d61b2d",
      "metadata": {},
      "source": "Initialize sentence transformer."
    },
    {
      "cell_type": "code",
      "execution_count": 24,
      "id": "204c4a32-bafd-45d7-928e-3ec1083b4b58",
      "metadata": {
        "execution": {
          "iopub.execute_input": "2023-06-26T19:41:49.676056Z",
          "iopub.status.busy": "2023-06-26T19:41:49.675613Z",
          "iopub.status.idle": "2023-06-26T19:41:58.500514Z",
          "shell.execute_reply": "2023-06-26T19:41:58.499787Z",
          "shell.execute_reply.started": "2023-06-26T19:41:49.676036Z"
        },
        "tags": [],
        "trusted": true
      },
      "outputs": [
        {
          "data": {
            "application/vnd.jupyter.widget-view+json": {
              "model_id": "7323ff58cada4b1cb7ac8587b0f08b16",
              "version_major": 2,
              "version_minor": 0
            },
            "text/plain": "Downloading (…)e933c/.gitattributes:   0%|          | 0.00/737 [00:00<?, ?B/s]"
          },
          "metadata": {},
          "output_type": "display_data"
        },
        {
          "data": {
            "application/vnd.jupyter.widget-view+json": {
              "model_id": "3c67a8a9ad1f4d93950c45662ecb4a71",
              "version_major": 2,
              "version_minor": 0
            },
            "text/plain": "Downloading (…)_Pooling/config.json:   0%|          | 0.00/190 [00:00<?, ?B/s]"
          },
          "metadata": {},
          "output_type": "display_data"
        },
        {
          "data": {
            "application/vnd.jupyter.widget-view+json": {
              "model_id": "844bba393fa746d9aa336732bb0f1fb5",
              "version_major": 2,
              "version_minor": 0
            },
            "text/plain": "Downloading (…)cbe6ee933c/README.md:   0%|          | 0.00/9.85k [00:00<?, ?B/s]"
          },
          "metadata": {},
          "output_type": "display_data"
        },
        {
          "data": {
            "application/vnd.jupyter.widget-view+json": {
              "model_id": "f5e1e949d3a14030a7d3a00552fe0503",
              "version_major": 2,
              "version_minor": 0
            },
            "text/plain": "Downloading (…)e6ee933c/config.json:   0%|          | 0.00/591 [00:00<?, ?B/s]"
          },
          "metadata": {},
          "output_type": "display_data"
        },
        {
          "data": {
            "application/vnd.jupyter.widget-view+json": {
              "model_id": "eda5bf2a29454edea5daea2c984b1514",
              "version_major": 2,
              "version_minor": 0
            },
            "text/plain": "Downloading (…)ce_transformers.json:   0%|          | 0.00/116 [00:00<?, ?B/s]"
          },
          "metadata": {},
          "output_type": "display_data"
        },
        {
          "data": {
            "application/vnd.jupyter.widget-view+json": {
              "model_id": "2f425bb3476f43b6ac805cb547f6ba33",
              "version_major": 2,
              "version_minor": 0
            },
            "text/plain": "Downloading (…)33c/data_config.json:   0%|          | 0.00/15.7k [00:00<?, ?B/s]"
          },
          "metadata": {},
          "output_type": "display_data"
        },
        {
          "data": {
            "application/vnd.jupyter.widget-view+json": {
              "model_id": "1706d2a2306342c4bceff5f29dc3f8c7",
              "version_major": 2,
              "version_minor": 0
            },
            "text/plain": "Downloading pytorch_model.bin:   0%|          | 0.00/438M [00:00<?, ?B/s]"
          },
          "metadata": {},
          "output_type": "display_data"
        },
        {
          "data": {
            "application/vnd.jupyter.widget-view+json": {
              "model_id": "4438811272684a6d8858c3402dfb4a76",
              "version_major": 2,
              "version_minor": 0
            },
            "text/plain": "Downloading (…)nce_bert_config.json:   0%|          | 0.00/53.0 [00:00<?, ?B/s]"
          },
          "metadata": {},
          "output_type": "display_data"
        },
        {
          "data": {
            "application/vnd.jupyter.widget-view+json": {
              "model_id": "ab39ffacde864c0686efba3196fd89a5",
              "version_major": 2,
              "version_minor": 0
            },
            "text/plain": "Downloading (…)cial_tokens_map.json:   0%|          | 0.00/239 [00:00<?, ?B/s]"
          },
          "metadata": {},
          "output_type": "display_data"
        },
        {
          "data": {
            "application/vnd.jupyter.widget-view+json": {
              "model_id": "c62d6336c370458a8c7bfec9f2ed896c",
              "version_major": 2,
              "version_minor": 0
            },
            "text/plain": "Downloading (…)e933c/tokenizer.json:   0%|          | 0.00/466k [00:00<?, ?B/s]"
          },
          "metadata": {},
          "output_type": "display_data"
        },
        {
          "data": {
            "application/vnd.jupyter.widget-view+json": {
              "model_id": "51d0f4aa83d64247a010412ca593c219",
              "version_major": 2,
              "version_minor": 0
            },
            "text/plain": "Downloading (…)okenizer_config.json:   0%|          | 0.00/383 [00:00<?, ?B/s]"
          },
          "metadata": {},
          "output_type": "display_data"
        },
        {
          "data": {
            "application/vnd.jupyter.widget-view+json": {
              "model_id": "95b9b2818dec462c8076caf1a37dbe32",
              "version_major": 2,
              "version_minor": 0
            },
            "text/plain": "Downloading (…)933c/train_script.py:   0%|          | 0.00/13.2k [00:00<?, ?B/s]"
          },
          "metadata": {},
          "output_type": "display_data"
        },
        {
          "data": {
            "application/vnd.jupyter.widget-view+json": {
              "model_id": "e77f06b9e20d4449a785abeddfd3be74",
              "version_major": 2,
              "version_minor": 0
            },
            "text/plain": "Downloading (…)cbe6ee933c/vocab.txt:   0%|          | 0.00/232k [00:00<?, ?B/s]"
          },
          "metadata": {},
          "output_type": "display_data"
        },
        {
          "data": {
            "application/vnd.jupyter.widget-view+json": {
              "model_id": "6ebce688e3184720a37af71bd4f9f4c9",
              "version_major": 2,
              "version_minor": 0
            },
            "text/plain": "Downloading (…)6ee933c/modules.json:   0%|          | 0.00/349 [00:00<?, ?B/s]"
          },
          "metadata": {},
          "output_type": "display_data"
        }
      ],
      "source": "from sentence_transformers import SentenceTransformer\n\nmodel = SentenceTransformer('flax-sentence-embeddings/all_datasets_v3_mpnet-base')"
    },
    {
      "cell_type": "markdown",
      "id": "fce95741-8094-4a4b-8a4a-f92699471da5",
      "metadata": {},
      "source": "Query the `movies_with_tags` table and store the output in a variable named `result`. The `result <<` syntax in the \n`%%sql` line indicates that the output from the query should get stored under that variable name."
    },
    {
      "cell_type": "code",
      "execution_count": 25,
      "id": "920798f0-55b6-4f2d-ba36-7f94e750f684",
      "metadata": {
        "execution": {
          "iopub.execute_input": "2023-06-26T19:42:04.782533Z",
          "iopub.status.busy": "2023-06-26T19:42:04.781872Z",
          "iopub.status.idle": "2023-06-26T19:42:05.267341Z",
          "shell.execute_reply": "2023-06-26T19:42:05.266753Z",
          "shell.execute_reply.started": "2023-06-26T19:42:04.782511Z"
        },
        "tags": [],
        "trusted": true
      },
      "outputs": [],
      "source": "%%sql result <<\nSELECT * FROM movies_with_tags"
    },
    {
      "cell_type": "markdown",
      "id": "08651421-7313-4bb5-87f1-56ea165d45c5",
      "metadata": {
        "execution": {
          "iopub.execute_input": "2023-06-20T20:45:40.559067Z",
          "iopub.status.busy": "2023-06-20T20:45:40.558677Z",
          "iopub.status.idle": "2023-06-20T20:45:40.563794Z",
          "shell.execute_reply": "2023-06-20T20:45:40.562908Z",
          "shell.execute_reply.started": "2023-06-20T20:45:40.559043Z"
        },
        "tags": []
      },
      "source": "Convert the result from the above SQL into a DataFrame and clean up quotes."
    },
    {
      "cell_type": "code",
      "execution_count": 26,
      "id": "01d5cf58-65eb-4676-90b9-0d5a9253fd34",
      "metadata": {
        "execution": {
          "iopub.execute_input": "2023-06-26T19:42:07.362933Z",
          "iopub.status.busy": "2023-06-26T19:42:07.362616Z",
          "iopub.status.idle": "2023-06-26T19:42:07.371856Z",
          "shell.execute_reply": "2023-06-26T19:42:07.371238Z",
          "shell.execute_reply.started": "2023-06-26T19:42:07.362913Z"
        },
        "tags": [],
        "trusted": true
      },
      "outputs": [],
      "source": "import pandas as pd\n\ndf = pd.DataFrame(result)\n\n# Curate the special characters\ndf['title'] = df['title'].str.replace('\"', '')\ndf['all_tags'] = df['all_tags'].str.replace('\"', '').str.replace(\"'\", '')\n\n# Convert from dataframe to list\nall_titles = df.values.tolist()"
    },
    {
      "cell_type": "markdown",
      "id": "134caeab-a430-4412-91d7-d74b3dd0002b",
      "metadata": {},
      "source": "Check the first row of the list."
    },
    {
      "cell_type": "code",
      "execution_count": 27,
      "id": "de9b96b6-0fb3-47f9-8186-b5e6cee330a4",
      "metadata": {
        "execution": {
          "iopub.execute_input": "2023-06-26T19:42:09.698122Z",
          "iopub.status.busy": "2023-06-26T19:42:09.697814Z",
          "iopub.status.idle": "2023-06-26T19:42:09.706102Z",
          "shell.execute_reply": "2023-06-26T19:42:09.705559Z",
          "shell.execute_reply.started": "2023-06-26T19:42:09.698103Z"
        },
        "tags": [],
        "trusted": true
      },
      "outputs": [
        {
          "data": {
            "text/plain": "[72165,\n \"Cirque du Freak: The Vampire's Assistant (2009)\",\n 'Action|Adventure|Comedy|Fantasy|Horror|Thriller',\n 'Paul Weitz,NO_FA_GANES,Patrick Fugit,New Orleans,vampires,stew,Cast,Salma Hayek,Salma Hayek,吸血鬼的助手,John C Reilly,Special Effects,Josh Hutcherson,vampires,antidote,vampires,best friend,vampire,Ken Watanabe,execution,Characters,wolfman,vampires,奇趣马戏团：吸血鬼的助手,Music,John C Reilly,vampires,vampires,Script,based on young adult novel,Costumes,spider,freak show,奇趣马戏团,execution']"
          },
          "execution_count": 27,
          "metadata": {},
          "output_type": "execute_result"
        }
      ],
      "source": "all_titles[0]"
    },
    {
      "cell_type": "markdown",
      "id": "6b88c557-44b5-4d48-b314-c50d65a4e5d5",
      "metadata": {},
      "source": "Concatenate title and tags."
    },
    {
      "cell_type": "code",
      "execution_count": 28,
      "id": "a1d9b7f5-409c-4053-a724-39747ce663b8",
      "metadata": {
        "execution": {
          "iopub.execute_input": "2023-06-26T19:42:14.179874Z",
          "iopub.status.busy": "2023-06-26T19:42:14.179562Z",
          "iopub.status.idle": "2023-06-26T19:42:14.183209Z",
          "shell.execute_reply": "2023-06-26T19:42:14.182547Z",
          "shell.execute_reply.started": "2023-06-26T19:42:14.179855Z"
        },
        "tags": [],
        "trusted": true
      },
      "outputs": [],
      "source": "all_title_type_column = [f'{row[1]}-{row[3]}' if row[1] is not None else row[1] for row in all_titles]"
    },
    {
      "cell_type": "markdown",
      "id": "77af8001-a7d5-4a24-8290-b025d00ca1f3",
      "metadata": {},
      "source": "Create the embeddings for Title & Tag (~3 minutes)."
    },
    {
      "cell_type": "code",
      "execution_count": 50,
      "id": "efd8aaa2-feaf-43ce-9f72-f5161d781f00",
      "metadata": {
        "execution": {
          "iopub.execute_input": "2023-06-26T19:51:39.327497Z",
          "iopub.status.busy": "2023-06-26T19:51:39.326947Z",
          "iopub.status.idle": "2023-06-26T19:52:05.346873Z",
          "shell.execute_reply": "2023-06-26T19:52:05.346198Z",
          "shell.execute_reply.started": "2023-06-26T19:51:39.327470Z"
        },
        "tags": [],
        "trusted": true
      },
      "outputs": [
        {
          "data": {
            "text/plain": "(300, 768)"
          },
          "execution_count": 50,
          "metadata": {},
          "output_type": "execute_result"
        }
      ],
      "source": "# Remove [:3000] if you want to vectorize all rows (~60 minutes)\nall_embeddings = model.encode(all_title_type_column[:3000])\nall_embeddings.shape"
    },
    {
      "cell_type": "markdown",
      "id": "1e59050c-d53c-476f-a4cb-ce97f759efa0",
      "metadata": {},
      "source": "Join the original data with the vector data."
    },
    {
      "cell_type": "code",
      "execution_count": 42,
      "id": "54b0546d-0e22-4fde-a903-18c714bdd21d",
      "metadata": {
        "execution": {
          "iopub.execute_input": "2023-06-23T15:23:26.387128Z",
          "iopub.status.busy": "2023-06-23T15:23:26.386640Z",
          "iopub.status.idle": "2023-06-23T15:23:26.401221Z",
          "shell.execute_reply": "2023-06-23T15:23:26.400751Z",
          "shell.execute_reply.started": "2023-06-23T15:23:26.387106Z"
        },
        "tags": [],
        "trusted": true
      },
      "outputs": [],
      "source": "# Remember the list will be only 3,000 elements\ncombined_data = [tuple(row) + (embedding,) for embedding, row in zip(all_embeddings, all_titles)]"
    },
    {
      "cell_type": "markdown",
      "id": "f482feed-edd4-4489-8ab4-cdd5803515f3",
      "metadata": {
        "execution": {},
        "tags": []
      },
      "source": "## 4. Create table for movie information and vectors"
    },
    {
      "cell_type": "code",
      "execution_count": 43,
      "id": "32f4d535-8ea6-47a9-9fd3-5215a23f72e3",
      "metadata": {
        "execution": {
          "iopub.execute_input": "2023-06-23T15:23:29.543833Z",
          "iopub.status.busy": "2023-06-23T15:23:29.543514Z",
          "iopub.status.idle": "2023-06-23T15:23:29.650671Z",
          "shell.execute_reply": "2023-06-23T15:23:29.650207Z",
          "shell.execute_reply.started": "2023-06-23T15:23:29.543810Z"
        },
        "tags": [],
        "trusted": true
      },
      "outputs": [
        {
          "data": {
            "text/plain": ""
          },
          "execution_count": 43,
          "metadata": {},
          "output_type": "execute_result"
        }
      ],
      "source": "%%sql\nDROP TABLE IF EXISTS movie_with_tags_with_vectors;\n\nCREATE TABLE movie_with_tags_with_vectors (\n    movieId bigint(20) DEFAULT NULL,\n    title text CHARACTER SET utf8 COLLATE utf8_general_ci,\n    genres text CHARACTER SET utf8 COLLATE utf8_general_ci,\n    all_tags longtext CHARACTER SET utf8mb4,\n    vector blob\n)"
    },
    {
      "cell_type": "markdown",
      "id": "23570610-0ec1-4c3c-a63b-8221130042cf",
      "metadata": {},
      "source": "Create a database connection using SQLAlchemy. We are going to use an SQLAlchemy connection here because one\ncolumn of data is numpy arrays. The SingleStoreDB SQLAlchemy driver will automatically convert those to\nthe correct binary format when uploading, so it's a bit more convenient than doing the conversions and \nformatting manually for the `%sql` magic command."
    },
    {
      "cell_type": "code",
      "execution_count": 44,
      "id": "46c50550-5961-45df-ace8-65d7b91edc42",
      "metadata": {
        "execution": {
          "iopub.execute_input": "2023-06-23T15:23:46.491152Z",
          "iopub.status.busy": "2023-06-23T15:23:46.490761Z",
          "iopub.status.idle": "2023-06-23T15:23:46.629133Z",
          "shell.execute_reply": "2023-06-23T15:23:46.628648Z",
          "shell.execute_reply.started": "2023-06-23T15:23:46.491125Z"
        },
        "tags": [],
        "trusted": true
      },
      "outputs": [],
      "source": "from sqlalchemy import create_engine\n\ndb_connection = create_engine(connection_url).connect()"
    },
    {
      "cell_type": "markdown",
      "id": "db42c917-2d53-46c8-96b5-55d7e8b4d327",
      "metadata": {},
      "source": "Insert the data. Some rows might encounter errors due to unsupported characters."
    },
    {
      "cell_type": "code",
      "execution_count": 45,
      "id": "4cbf8232-7738-49fa-be00-1e7a5f1882b3",
      "metadata": {
        "execution": {
          "iopub.execute_input": "2023-06-23T15:23:47.802013Z",
          "iopub.status.busy": "2023-06-23T15:23:47.801707Z",
          "iopub.status.idle": "2023-06-23T15:23:53.083041Z",
          "shell.execute_reply": "2023-06-23T15:23:53.082517Z",
          "shell.execute_reply.started": "2023-06-23T15:23:47.801992Z"
        },
        "tags": [],
        "trusted": true
      },
      "outputs": [],
      "source": "sql_query = 'INSERT INTO movie_with_tags_with_vectors (movieId, title, genres, all_tags, vector) VALUES (%s, %s, %s, %s, %s)'\n\nfor i, row in enumerate(combined_data):\n    try:\n        db_connection.execute(sql_query, row)\n    except Exception as e:\n        print(\"Error inserting row {}: {}\".format(i, e))\n        continue"
    },
    {
      "cell_type": "markdown",
      "id": "192353be-db56-4cec-8d6e-a258532c6dd9",
      "metadata": {},
      "source": "## 5. Marrying Search ❤️ Semantic Search ❤️ Analytics"
    },
    {
      "cell_type": "markdown",
      "id": "edd2d5e9-b4ad-4d10-b638-eabeaaad4846",
      "metadata": {},
      "source": "### Build autocomplete search"
    },
    {
      "cell_type": "markdown",
      "id": "26e07b98-b934-42b9-935c-1e9d750b7697",
      "metadata": {},
      "source": "This is en experimentat we started with to render a full text search."
    },
    {
      "cell_type": "code",
      "execution_count": 47,
      "id": "eca42fb8-2591-472b-a607-85c5fb3d5f63",
      "metadata": {
        "execution": {
          "iopub.execute_input": "2023-06-23T15:24:41.709875Z",
          "iopub.status.busy": "2023-06-23T15:24:41.709423Z",
          "iopub.status.idle": "2023-06-23T15:24:41.889404Z",
          "shell.execute_reply": "2023-06-23T15:24:41.888940Z",
          "shell.execute_reply.started": "2023-06-23T15:24:41.709855Z"
        },
        "tags": [],
        "trusted": true
      },
      "outputs": [
        {
          "data": {
            "text/html": "<table>\n    <thead>\n        <tr>\n            <th>title</th>\n            <th>movieId</th>\n        </tr>\n    </thead>\n    <tbody>\n        <tr>\n            <td>Pocahontas (1995)</td>\n            <td>48</td>\n        </tr>\n    </tbody>\n</table>",
            "text/plain": "+-------------------+---------+\n|       title       | movieId |\n+-------------------+---------+\n| Pocahontas (1995) |    48   |\n+-------------------+---------+"
          },
          "execution_count": 47,
          "metadata": {},
          "output_type": "execute_result"
        }
      ],
      "source": "%%sql\nWITH queryouter AS (\n                SELECT DISTINCT(title), movieId, MATCH(title) AGAINST ('Pocahontas*') as relevance\n                FROM movies\n                WHERE MATCH(title) AGAINST ('Pocahontas*')\n                ORDER BY relevance DESC\n                LIMIT 10)\n    SELECT title, movieId FROM queryouter;"
    },
    {
      "cell_type": "markdown",
      "id": "9f4d78ba-a0ad-4a4c-98e7-f06ce1281ed1",
      "metadata": {},
      "source": "### Create user favorite movie tables"
    },
    {
      "cell_type": "code",
      "execution_count": 48,
      "id": "45a78f0a-c6bd-423b-bc5e-df641c78f48e",
      "metadata": {
        "execution": {
          "iopub.execute_input": "2023-06-23T15:24:44.827890Z",
          "iopub.status.busy": "2023-06-23T15:24:44.827148Z",
          "iopub.status.idle": "2023-06-23T15:24:44.944787Z",
          "shell.execute_reply": "2023-06-23T15:24:44.944283Z",
          "shell.execute_reply.started": "2023-06-23T15:24:44.827861Z"
        },
        "tags": [],
        "trusted": true
      },
      "outputs": [
        {
          "data": {
            "text/plain": ""
          },
          "execution_count": 48,
          "metadata": {},
          "output_type": "execute_result"
        }
      ],
      "source": "%%sql\nCREATE ROWSTORE TABLE IF NOT EXISTS user_choice (\n    userid text CHARACTER SET utf8 COLLATE utf8_general_ci,\n    title text CHARACTER SET utf8 COLLATE utf8_general_ci,\n    ts datetime DEFAULT NULL,\n    KEY userid (userid)\n)"
    },
    {
      "cell_type": "markdown",
      "id": "b6f053f4-5654-48d0-b897-9dfb1aaff016",
      "metadata": {},
      "source": "Enter dummy data for testing purposes."
    },
    {
      "cell_type": "code",
      "execution_count": 49,
      "id": "98ca4b36-3aa0-43d9-8e9f-ffb9f08e9b72",
      "metadata": {
        "execution": {
          "iopub.execute_input": "2023-06-23T15:24:46.617806Z",
          "iopub.status.busy": "2023-06-23T15:24:46.617287Z",
          "iopub.status.idle": "2023-06-23T15:24:46.784939Z",
          "shell.execute_reply": "2023-06-23T15:24:46.784234Z",
          "shell.execute_reply.started": "2023-06-23T15:24:46.617784Z"
        },
        "tags": [],
        "trusted": true
      },
      "outputs": [
        {
          "data": {
            "text/plain": ""
          },
          "execution_count": 49,
          "metadata": {},
          "output_type": "execute_result"
        }
      ],
      "source": "%%sql\nINSERT INTO user_choice (userid, title, ts)\n    VALUES ('user1', 'Zone 39 (1997)', '2022-01-01 00:00:00'),\n           ('user1', 'Star Trek II: The Wrath of Khan (1982)', '2022-01-01 00:00:00'),\n           ('user1', 'Giver, The (2014)', '2022-01-01 00:00:00');"
    },
    {
      "cell_type": "markdown",
      "id": "cbe64201-0260-43be-87c0-20616c34ce59",
      "metadata": {},
      "source": "### Build semantic search for a movie recommendation"
    },
    {
      "cell_type": "code",
      "execution_count": 50,
      "id": "c2368b35-e2cd-4a7c-82a5-565cabc73f90",
      "metadata": {
        "execution": {
          "iopub.execute_input": "2023-06-23T15:24:50.677778Z",
          "iopub.status.busy": "2023-06-23T15:24:50.677232Z",
          "iopub.status.idle": "2023-06-23T15:24:55.723116Z",
          "shell.execute_reply": "2023-06-23T15:24:55.722613Z",
          "shell.execute_reply.started": "2023-06-23T15:24:50.677752Z"
        },
        "tags": [],
        "trusted": true
      },
      "outputs": [
        {
          "data": {
            "text/html": "<table>\n    <thead>\n        <tr>\n            <th>Title</th>\n            <th>Match Score</th>\n            <th>Average User Rating</th>\n        </tr>\n    </thead>\n    <tbody>\n    </tbody>\n</table>",
            "text/plain": "+-------+-------------+---------------------+\n| Title | Match Score | Average User Rating |\n+-------+-------------+---------------------+\n+-------+-------------+---------------------+"
          },
          "execution_count": 50,
          "metadata": {},
          "output_type": "execute_result"
        }
      ],
      "source": "%%sql\nWITH\n    table_match AS (\n        SELECT\n            m.title,\n            m.movieId,\n            m.vector\n        FROM\n            user_choice t\n            INNER JOIN movie_with_tags_with_vectors m ON m.title = t.title\n        WHERE\n            userid = 'user1'\n    ),\n    movie_pairs AS (\n        SELECT\n            m1.movieId AS movieId1,\n            m1.title AS title1,\n            m2.movieId AS movieId2,\n            m2.title AS title2,\n            DOT_PRODUCT(m1.vector, m2.vector) AS similarity\n        FROM\n            table_match m1\n            CROSS JOIN movie_with_tags_with_vectors m2\n        WHERE\n            m1.movieId != m2.movieId\n            AND NOT EXISTS (\n                SELECT\n                    1\n                FROM\n                    user_choice uc\n                WHERE\n                    uc.userid = 'user1'\n                    AND uc.title = m2.title\n            )\n    ),\n    movie_match AS (\n        SELECT\n            movieId1,\n            title1,\n            movieId2,\n            title2,\n            similarity\n        FROM\n            movie_pairs\n        ORDER BY\n            similarity DESC\n    ),\n    distinct_count AS (\n        SELECT DISTINCT\n            movieId2,\n            title2 AS Title,\n            ROUND(AVG(similarity), 4) AS Rating_Match\n        FROM\n            movie_match\n        GROUP BY\n            movieId2,\n            title2\n        ORDER BY\n            Rating_Match DESC\n    ),\n    average_ratings AS (\n        SELECT\n            movieId,\n            AVG(rating) AS Avg_Rating\n        FROM\n            ratings\n        GROUP BY\n            movieId\n    )\nSELECT\n    dc.Title,\n    dc.Rating_Match as 'Match Score',\n    ROUND(ar.Avg_Rating, 1) AS 'Average User Rating'\nFROM\n    distinct_count dc\n    JOIN average_ratings ar ON dc.movieId2 = ar.movieId\nORDER BY\n    dc.Rating_Match DESC\nLIMIT\n    5;"
    },
    {
      "cell_type": "markdown",
      "id": "3a9efa4a-1a38-49f3-ba6d-a00b6c90e2b0",
      "metadata": {},
      "source": "## 6. What are you looking for?"
    },
    {
      "cell_type": "code",
      "execution_count": 52,
      "id": "87547d68-e1c9-4fd8-946f-6b378c9b36f2",
      "metadata": {
        "execution": {
          "iopub.execute_input": "2023-06-23T15:24:55.800244Z",
          "iopub.status.busy": "2023-06-23T15:24:55.799921Z",
          "iopub.status.idle": "2023-06-23T15:24:55.876767Z",
          "shell.execute_reply": "2023-06-23T15:24:55.876210Z",
          "shell.execute_reply.started": "2023-06-23T15:24:55.800220Z"
        },
        "tags": [],
        "trusted": true
      },
      "outputs": [],
      "source": "search_embedding = model.encode(\"I want see a French comedy movie\")"
    },
    {
      "cell_type": "code",
      "execution_count": 53,
      "id": "3b70a678-4829-4456-8946-d1dcbf46c98b",
      "metadata": {
        "execution": {
          "iopub.execute_input": "2023-06-23T15:24:58.715117Z",
          "iopub.status.busy": "2023-06-23T15:24:58.714714Z",
          "iopub.status.idle": "2023-06-23T15:24:58.822585Z",
          "shell.execute_reply": "2023-06-23T15:24:58.822078Z",
          "shell.execute_reply.started": "2023-06-23T15:24:58.715095Z"
        },
        "tags": [],
        "trusted": true
      },
      "outputs": [
        {
          "name": "stdout",
          "output_type": "stream",
          "text": "1: All About Actresses (Le bal des actrices) (2009) Comedy|Drama Score: 0.5936338901519775\n2: Ce que mes yeux ont vu (2007) Drama|Mystery|Thriller Score: 0.5902963280677795\n3: Right Now (À tout de suite) (2004) Crime|Drama|Romance|Thriller Score: 0.5659379363059998\n4: Me Two (Personne aux deux personnes, La) (2008) Comedy|Fantasy Score: 0.5574517250061035\n5: Fugitives (1986) Comedy|Crime Score: 0.5554698705673218\n6: Jean-Luc Cinema Godard (2009) Documentary Score: 0.5506473779678345\n7: Happiness Is in the Field (Bonheur est dans le pré, Le) (1995) Comedy Score: 0.5377820730209351\n8: Fair is Fair (2010) Comedy Score: 0.5282392501831055\n9: Le grand soir (2012) Comedy Score: 0.5223126411437988\n10: Hugo (2011) Children|Drama|Mystery Score: 0.5180882811546326\n"
        }
      ],
      "source": "sql_query = \"SELECT title, genres, DOT_PRODUCT(vector, %(vector)s) AS Score FROM movie_with_tags_with_vectors tv \" + \\\n            \"ORDER BY Score DESC \" + \\\n            \"LIMIT 10\"\n\nresults = db_connection.execute(sql_query, dict(vector=search_embedding))\n\noutput_list = []\nfor res in results:\n    output_list.append({\n        'title': res[0],\n        'genres': res[1],\n        'score': res[2]\n    })\n\nfor i, res in enumerate(output_list):\n    print(f\"{i + 1}: {res['title']} {res['genres']} Score: {res['score']}\")"
    },
    {
      "cell_type": "markdown",
      "id": "0017d0c2-6647-431d-a937-85132af15b1a",
      "metadata": {},
      "source": "<img src=\"https://raw.githubusercontent.com/singlestore-labs/notebook-picture/main/banner-colors-reverse.png\" style=\"width: 100%; margin: 0; padding: 0\"/>"
    },
    {
      "cell_type": "code",
      "execution_count": null,
      "id": "4df6c281-54c6-49eb-a15e-7ef824ede82b",
      "metadata": {},
      "outputs": [],
      "source": ""
    }
  ],
  "metadata": {
    "kernelspec": {
      "display_name": "Python 3 (ipykernel)",
      "language": "python",
      "name": "python3"
    },
    "language_info": {
      "codemirror_mode": {
        "name": "ipython",
        "version": 3
      },
      "file_extension": ".py",
      "mimetype": "text/x-python",
      "name": "python",
      "nbconvert_exporter": "python",
      "pygments_lexer": "ipython3",
      "version": "3.10.9"
    },
    "singlestore_connection": {
      "connectionID": "34713c62-c91a-4c84-91b3-79dff7cd693a",
      "defaultDatabase": "movie_recommender"
    },
    "singlestore_row_limit": 300
  },
  "nbformat": 4,
  "nbformat_minor": 5
}
